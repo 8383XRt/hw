{
 "cells": [
  {
   "cell_type": "code",
   "execution_count": 302,
   "id": "9b96f484",
   "metadata": {},
   "outputs": [],
   "source": [
    "data = 'https://raw.githubusercontent.com/alexeygrigorev/datasets/master/housing.csv'"
   ]
  },
  {
   "cell_type": "code",
   "execution_count": 303,
   "id": "0fb6fbfe",
   "metadata": {},
   "outputs": [],
   "source": [
    "import pandas as pd \n",
    "import numpy as np\n",
    "import requests\n",
    "import matplotlib.pyplot as plt \n",
    "import seaborn as sns "
   ]
  },
  {
   "cell_type": "code",
   "execution_count": 304,
   "id": "b96a2d4a",
   "metadata": {},
   "outputs": [],
   "source": [
    "response = requests.get(data)"
   ]
  },
  {
   "cell_type": "code",
   "execution_count": 305,
   "id": "cf3952c6",
   "metadata": {},
   "outputs": [
    {
     "ename": "PermissionError",
     "evalue": "[Errno 13] Permission denied: 'housing.csv'",
     "output_type": "error",
     "traceback": [
      "\u001b[1;31m---------------------------------------------------------------------------\u001b[0m",
      "\u001b[1;31mPermissionError\u001b[0m                           Traceback (most recent call last)",
      "Cell \u001b[1;32mIn[305], line 1\u001b[0m\n\u001b[1;32m----> 1\u001b[0m \u001b[38;5;28;01mwith\u001b[39;00m \u001b[38;5;28;43mopen\u001b[39;49m\u001b[43m(\u001b[49m\u001b[38;5;124;43m'\u001b[39;49m\u001b[38;5;124;43mhousing.csv\u001b[39;49m\u001b[38;5;124;43m'\u001b[39;49m\u001b[43m,\u001b[49m\u001b[38;5;124;43m'\u001b[39;49m\u001b[38;5;124;43mwb\u001b[39;49m\u001b[38;5;124;43m'\u001b[39;49m\u001b[43m)\u001b[49m\u001b[38;5;28;01mas\u001b[39;00m csv_file:\n\u001b[0;32m      2\u001b[0m     csv_file\u001b[38;5;241m.\u001b[39mwrite(response\u001b[38;5;241m.\u001b[39mcontent)\n",
      "File \u001b[1;32m~\\anaconda3\\envs\\python-env\\lib\\site-packages\\IPython\\core\\interactiveshell.py:286\u001b[0m, in \u001b[0;36m_modified_open\u001b[1;34m(file, *args, **kwargs)\u001b[0m\n\u001b[0;32m    279\u001b[0m \u001b[38;5;28;01mif\u001b[39;00m file \u001b[38;5;129;01min\u001b[39;00m {\u001b[38;5;241m0\u001b[39m, \u001b[38;5;241m1\u001b[39m, \u001b[38;5;241m2\u001b[39m}:\n\u001b[0;32m    280\u001b[0m     \u001b[38;5;28;01mraise\u001b[39;00m \u001b[38;5;167;01mValueError\u001b[39;00m(\n\u001b[0;32m    281\u001b[0m         \u001b[38;5;124mf\u001b[39m\u001b[38;5;124m\"\u001b[39m\u001b[38;5;124mIPython won\u001b[39m\u001b[38;5;124m'\u001b[39m\u001b[38;5;124mt let you open fd=\u001b[39m\u001b[38;5;132;01m{\u001b[39;00mfile\u001b[38;5;132;01m}\u001b[39;00m\u001b[38;5;124m by default \u001b[39m\u001b[38;5;124m\"\u001b[39m\n\u001b[0;32m    282\u001b[0m         \u001b[38;5;124m\"\u001b[39m\u001b[38;5;124mas it is likely to crash IPython. If you know what you are doing, \u001b[39m\u001b[38;5;124m\"\u001b[39m\n\u001b[0;32m    283\u001b[0m         \u001b[38;5;124m\"\u001b[39m\u001b[38;5;124myou can use builtins\u001b[39m\u001b[38;5;124m'\u001b[39m\u001b[38;5;124m open.\u001b[39m\u001b[38;5;124m\"\u001b[39m\n\u001b[0;32m    284\u001b[0m     )\n\u001b[1;32m--> 286\u001b[0m \u001b[38;5;28;01mreturn\u001b[39;00m io_open(file, \u001b[38;5;241m*\u001b[39margs, \u001b[38;5;241m*\u001b[39m\u001b[38;5;241m*\u001b[39mkwargs)\n",
      "\u001b[1;31mPermissionError\u001b[0m: [Errno 13] Permission denied: 'housing.csv'"
     ]
    }
   ],
   "source": [
    "with open('housing.csv','wb')as csv_file:\n",
    "    csv_file.write(response.content)"
   ]
  },
  {
   "cell_type": "code",
   "execution_count": null,
   "id": "f65945db",
   "metadata": {},
   "outputs": [],
   "source": [
    "df = pd.read_csv('housing.csv')"
   ]
  },
  {
   "cell_type": "code",
   "execution_count": null,
   "id": "b442cd3d",
   "metadata": {},
   "outputs": [],
   "source": [
    "df.shape"
   ]
  },
  {
   "cell_type": "code",
   "execution_count": null,
   "id": "49de90f2",
   "metadata": {},
   "outputs": [],
   "source": [
    "df.median_house_value[df.median_house_value<10000].values"
   ]
  },
  {
   "cell_type": "code",
   "execution_count": null,
   "id": "4b73c55e",
   "metadata": {},
   "outputs": [],
   "source": [
    "sns.histplot(df.median_house_value.values,color='blue',alpha=0.5,bins=40);"
   ]
  },
  {
   "cell_type": "code",
   "execution_count": null,
   "id": "e68c1a10",
   "metadata": {},
   "outputs": [],
   "source": [
    "oc_df = df[df['ocean_proximity'].isin(['<1H OCEAN', 'INLAND'])]"
   ]
  },
  {
   "cell_type": "code",
   "execution_count": null,
   "id": "3447a805",
   "metadata": {},
   "outputs": [],
   "source": [
    "oc_df.shape"
   ]
  },
  {
   "cell_type": "code",
   "execution_count": 306,
   "id": "1ffa4d89",
   "metadata": {},
   "outputs": [],
   "source": [
    "columns = ['latitude','longitude','housing_median_age','total_rooms','total_bedrooms','population','households','median_income','median_house_value']"
   ]
  },
  {
   "cell_type": "code",
   "execution_count": 307,
   "id": "d50511ad",
   "metadata": {},
   "outputs": [],
   "source": [
    "oc_df = oc_df[columns]"
   ]
  },
  {
   "cell_type": "code",
   "execution_count": 308,
   "id": "2f089265",
   "metadata": {},
   "outputs": [
    {
     "data": {
      "text/plain": [
       "(15687, 9)"
      ]
     },
     "execution_count": 308,
     "metadata": {},
     "output_type": "execute_result"
    }
   ],
   "source": [
    "oc_df.shape"
   ]
  },
  {
   "cell_type": "code",
   "execution_count": 309,
   "id": "19159988",
   "metadata": {},
   "outputs": [
    {
     "data": {
      "text/plain": [
       "latitude                0\n",
       "longitude               0\n",
       "housing_median_age      0\n",
       "total_rooms             0\n",
       "total_bedrooms        157\n",
       "population              0\n",
       "households              0\n",
       "median_income           0\n",
       "median_house_value      0\n",
       "dtype: int64"
      ]
     },
     "execution_count": 309,
     "metadata": {},
     "output_type": "execute_result"
    }
   ],
   "source": [
    "oc_df.isnull().sum()"
   ]
  },
  {
   "cell_type": "code",
   "execution_count": 310,
   "id": "c620e76f",
   "metadata": {},
   "outputs": [
    {
     "data": {
      "text/plain": [
       "1195.0"
      ]
     },
     "execution_count": 310,
     "metadata": {},
     "output_type": "execute_result"
    }
   ],
   "source": [
    "oc_df.population.median()"
   ]
  },
  {
   "cell_type": "code",
   "execution_count": 311,
   "id": "546c68cc",
   "metadata": {},
   "outputs": [],
   "source": [
    "n = len(oc_df)\n",
    "\n",
    "n_val = int(n * 0.2)\n",
    "n_test = int(n * 0.2)\n",
    "n_train = n - n_val - n_test"
   ]
  },
  {
   "cell_type": "code",
   "execution_count": 312,
   "id": "ade7f83f",
   "metadata": {},
   "outputs": [
    {
     "data": {
      "text/plain": [
       "(9413, 15687)"
      ]
     },
     "execution_count": 312,
     "metadata": {},
     "output_type": "execute_result"
    }
   ],
   "source": [
    "n_train,n"
   ]
  },
  {
   "cell_type": "code",
   "execution_count": 313,
   "id": "1c5d78a9",
   "metadata": {},
   "outputs": [],
   "source": [
    "idx = np.arange(n)\n",
    "np.random.seed(42)\n",
    "np.random.shuffle(idx)"
   ]
  },
  {
   "cell_type": "code",
   "execution_count": null,
   "id": "ed0f78ca",
   "metadata": {},
   "outputs": [],
   "source": []
  },
  {
   "cell_type": "code",
   "execution_count": 314,
   "id": "f2011b95",
   "metadata": {},
   "outputs": [],
   "source": [
    "df_train = oc_df.iloc[idx[:n_train]]\n",
    "df_val = oc_df.iloc[idx[n_train:n_train+n_val]]\n",
    "df_test = oc_df.iloc[idx[n_train+n_val:]]"
   ]
  },
  {
   "cell_type": "code",
   "execution_count": null,
   "id": "3659b112",
   "metadata": {},
   "outputs": [],
   "source": []
  },
  {
   "cell_type": "code",
   "execution_count": 315,
   "id": "443957b7",
   "metadata": {
    "scrolled": true
   },
   "outputs": [
    {
     "data": {
      "text/plain": [
       "(3137, 3137, 9413)"
      ]
     },
     "execution_count": 315,
     "metadata": {},
     "output_type": "execute_result"
    }
   ],
   "source": [
    "len(df_test),len(df_val),len(df_train)"
   ]
  },
  {
   "cell_type": "code",
   "execution_count": 316,
   "id": "611107b0",
   "metadata": {},
   "outputs": [],
   "source": [
    "df_train = df_train.reset_index(drop=True)\n",
    "df_val = df_val.reset_index(drop=True)\n",
    "df_test = df_test.reset_index(drop=True)"
   ]
  },
  {
   "cell_type": "code",
   "execution_count": 317,
   "id": "2947f698",
   "metadata": {},
   "outputs": [],
   "source": [
    "y_train = np.log1p(df_train.median_house_value.values)\n",
    "y_val = np.log1p(df_val.median_house_value.values)\n",
    "y_test = np.log1p(df_test.median_house_value.values)"
   ]
  },
  {
   "cell_type": "code",
   "execution_count": 318,
   "id": "8ae0f83f",
   "metadata": {},
   "outputs": [],
   "source": [
    "del df_train['median_house_value']\n",
    "del df_val['median_house_value']\n",
    "del df_test['median_house_value']"
   ]
  },
  {
   "cell_type": "markdown",
   "id": "d5ed5ad4",
   "metadata": {},
   "source": [
    "# Linear Regression"
   ]
  },
  {
   "cell_type": "code",
   "execution_count": 319,
   "id": "c2b52929",
   "metadata": {},
   "outputs": [],
   "source": [
    "def linear_regression(X,y):\n",
    "    ones = np.ones([X.shape[0]])\n",
    "    X = np.column_stack([ones,X])\n",
    "    \n",
    "    XTX = X.T.dot(X)\n",
    "    XTX_inv = np.linalg.inv(XTX)\n",
    "    w_full = XTX_inv.dot(X.T).dot(y)\n",
    "    \n",
    "    return w_full[0],w_full[1:]"
   ]
  },
  {
   "cell_type": "markdown",
   "id": "d2d3bc14",
   "metadata": {},
   "source": [
    "# RMSE"
   ]
  },
  {
   "cell_type": "code",
   "execution_count": 320,
   "id": "7a3fc1a0",
   "metadata": {},
   "outputs": [],
   "source": [
    "def rmse(y_train,y_pred):\n",
    "    se = (y_train-y_pred)**2\n",
    "    mse = se.mean()\n",
    "    score = np.sqrt(mse)\n",
    "    return score\n",
    "    "
   ]
  },
  {
   "cell_type": "markdown",
   "id": "d15d1789",
   "metadata": {},
   "source": [
    "# With 0"
   ]
  },
  {
   "cell_type": "code",
   "execution_count": 321,
   "id": "d4785a23",
   "metadata": {},
   "outputs": [],
   "source": [
    "def prepare_zero(df):\n",
    "    df_num = df.fillna(0)\n",
    "    X = df_num.values\n",
    "    return X"
   ]
  },
  {
   "cell_type": "code",
   "execution_count": 322,
   "id": "460e1a70",
   "metadata": {},
   "outputs": [
    {
     "data": {
      "text/plain": [
       "0.3408479034178568"
      ]
     },
     "execution_count": 322,
     "metadata": {},
     "output_type": "execute_result"
    }
   ],
   "source": [
    "X_train = prepare_zero(df_train)\n",
    "w0,w = linear_regression(X_train,y_train)\n",
    "\n",
    "X_val = prepare_zero(df_val)\n",
    "y_pred = w0+X_val.dot(w)\n",
    "rmse(y_val,y_pred)"
   ]
  },
  {
   "cell_type": "markdown",
   "id": "60cc7f64",
   "metadata": {},
   "source": [
    "# With Mean"
   ]
  },
  {
   "cell_type": "code",
   "execution_count": 323,
   "id": "dfdc9b64",
   "metadata": {},
   "outputs": [],
   "source": [
    "mean = df_train.total_bedrooms.mean()"
   ]
  },
  {
   "cell_type": "code",
   "execution_count": 324,
   "id": "e116d369",
   "metadata": {},
   "outputs": [],
   "source": [
    "def prepare_mean(df):\n",
    "    df_num = df.fillna(mean)\n",
    "    X = df_num.values\n",
    "    return X"
   ]
  },
  {
   "cell_type": "code",
   "execution_count": 325,
   "id": "e3c688e1",
   "metadata": {},
   "outputs": [
    {
     "data": {
      "text/plain": [
       "0.3405699801421053"
      ]
     },
     "execution_count": 325,
     "metadata": {},
     "output_type": "execute_result"
    }
   ],
   "source": [
    "X_train = prepare_mean(df_train)\n",
    "w0,w = linear_regression(X_train,y_train)\n",
    "\n",
    "X_val = prepare_mean(df_val)\n",
    "y_pred = w0+X_val.dot(w)\n",
    "rmse(y_val,y_pred)"
   ]
  },
  {
   "cell_type": "markdown",
   "id": "460c775c",
   "metadata": {},
   "source": [
    "# Regularization"
   ]
  },
  {
   "cell_type": "code",
   "execution_count": 326,
   "id": "1920addf",
   "metadata": {},
   "outputs": [],
   "source": [
    "def rmse_reg(y_train,y_pred):\n",
    "    se = (y_train-y_pred)**2\n",
    "    mse = se.mean()\n",
    "    score = np.sqrt(mse)\n",
    "    return round(score,2)"
   ]
  },
  {
   "cell_type": "code",
   "execution_count": 327,
   "id": "1add1e1b",
   "metadata": {},
   "outputs": [],
   "source": [
    "def linear_regression_reg(X,y,r=0.001):\n",
    "    ones = np.ones(X.shape[0])\n",
    "    X = np.column_stack([ones,X])\n",
    "    XTX = X.T.dot(X)\n",
    "    XTX_R = XTX + r*np.eye(XTX.shape[0])\n",
    "    XTX_inv = np.linalg.inv(XTX_R)\n",
    "    w_full = XTX_inv.dot(X.T).dot(y)\n",
    "    \n",
    "    return w_full[0],w_full[1:]"
   ]
  },
  {
   "cell_type": "code",
   "execution_count": 328,
   "id": "f4bc3840",
   "metadata": {},
   "outputs": [
    {
     "data": {
      "text/plain": [
       "0.34"
      ]
     },
     "execution_count": 328,
     "metadata": {},
     "output_type": "execute_result"
    }
   ],
   "source": [
    "X_train = prepare_zero(df_train)\n",
    "w0,w = linear_regression_reg(X_train,y_train,r=0.001)\n",
    "\n",
    "X_val = prepare_zero(df_val)\n",
    "y_pred = w0+X_val.dot(w)\n",
    "rmse_reg(y_val,y_pred)"
   ]
  },
  {
   "cell_type": "code",
   "execution_count": 329,
   "id": "b93b04d8",
   "metadata": {},
   "outputs": [
    {
     "name": "stdout",
     "output_type": "stream",
     "text": [
      "0 -9.763249477337387 0.34\n",
      "1e-06 -9.763228830643307 0.34\n",
      "0.0001 -9.761185235453269 0.34\n",
      "0.001 -9.742646249363403 0.34\n",
      "0.01 -9.561056192740143 0.34\n",
      "0.1 -8.058889769357727 0.34\n",
      "1 -3.13315427840502 0.34\n",
      "5 -0.8410867974437348 0.35\n",
      "10 -0.4381172315623696 0.35\n"
     ]
    }
   ],
   "source": [
    "for r in [0, 0.000001, 0.0001, 0.001, 0.01, 0.1, 1, 5, 10]:\n",
    "    X_train = prepare_zero(df_train)\n",
    "    w0, w = linear_regression_reg(X_train, y_train, r=r)\n",
    "\n",
    "    X_val = prepare_zero(df_val)\n",
    "    y_pred = w0 + X_val.dot(w)\n",
    "    score = rmse_reg(y_val, y_pred)\n",
    "    \n",
    "    print(r, w0, score)\n",
    "    "
   ]
  },
  {
   "cell_type": "code",
   "execution_count": 335,
   "id": "f552e15c",
   "metadata": {},
   "outputs": [
    {
     "name": "stdout",
     "output_type": "stream",
     "text": [
      "0 -10.127978073432953 0.7303485265317138\n",
      "1 -10.127978073432953 0.7303485265317138\n",
      "2 -10.127978073432953 0.7303485265317138\n",
      "3 -10.127978073432953 0.7303485265317138\n",
      "4 -10.127978073432953 0.7303485265317138\n",
      "5 -10.127978073432953 0.7303485265317138\n",
      "6 -10.127978073432953 0.7303485265317138\n",
      "7 -10.127978073432953 0.7303485265317138\n",
      "8 -10.127978073432953 0.7303485265317138\n",
      "9 -10.127978073432953 0.7303485265317138\n"
     ]
    }
   ],
   "source": [
    "std = []\n",
    "for c in [0, 1, 2, 3, 4, 5, 6, 7, 8, 9]:\n",
    "\n",
    "    pointer = np.arange(n)\n",
    "    np.random.seed(c)\n",
    "    np.random.shuffle(pointer)\n",
    "    \n",
    "    df_point = oc_df.iloc[idx]\n",
    "    \n",
    "    df_train_1 = df_point.iloc[idx[:n_train]].reset_index(drop=True).copy()\n",
    "    df_val_1 = df_point.iloc[idx[n_train:n_train+n_val]].reset_index(drop=True).copy()\n",
    "    df_test_1 = df_point.iloc[idx[n_train+n_val:]].reset_index(drop=True).copy()\n",
    "    \n",
    "    y_train_1 = np.log1p(df_train_1.median_house_value.values)\n",
    "    y_val_1 = np.log1p(df_val_1.median_house_value.values)\n",
    "    y_test_1 = np.log1p(df_val_1.median_house_value.values)\n",
    "    \n",
    "    del df_train_1['median_house_value']\n",
    "    del df_val_1['median_house_value']\n",
    "    del df_test_1['median_house_value']\n",
    "     \n",
    "    X_train_1 = prepare_zero(df_train_1)\n",
    "    w0,w = linear_regression(X_train_1,y_train_1)\n",
    "\n",
    "    X_val = prepare_zero(df_val_1)\n",
    "    y_pred = w0+X_val.dot(w)\n",
    "    score = rmse(y_val,y_pred)\n",
    "    std.append(score)\n",
    "    print(c,w0,score)"
   ]
  },
  {
   "cell_type": "code",
   "execution_count": 331,
   "id": "ca38af38",
   "metadata": {
    "collapsed": true
   },
   "outputs": [
    {
     "data": {
      "text/plain": [
       "[0.7303485265317138,\n",
       " 0.7303485265317138,\n",
       " 0.7303485265317138,\n",
       " 0.7303485265317138,\n",
       " 0.7303485265317138,\n",
       " 0.7303485265317138,\n",
       " 0.7303485265317138,\n",
       " 0.7303485265317138,\n",
       " 0.7303485265317138,\n",
       " 0.7303485265317138]"
      ]
     },
     "execution_count": 331,
     "metadata": {},
     "output_type": "execute_result"
    }
   ],
   "source": [
    "std"
   ]
  },
  {
   "cell_type": "code",
   "execution_count": 332,
   "id": "c43e11a0",
   "metadata": {
    "collapsed": true
   },
   "outputs": [
    {
     "data": {
      "text/plain": [
       "0.0"
      ]
     },
     "execution_count": 332,
     "metadata": {},
     "output_type": "execute_result"
    }
   ],
   "source": [
    "np.round(np.std(std),3)"
   ]
  },
  {
   "cell_type": "code",
   "execution_count": 360,
   "id": "8082a530",
   "metadata": {},
   "outputs": [],
   "source": [
    "pointer = np.arange(n)\n",
    "np.random.seed(9)\n",
    "np.random.shuffle(idx)\n",
    "\n",
    "df_shuffled = oc_df.iloc[idx]\n",
    "    \n",
    "df_train = df_shuffled.iloc[:n_train].copy()\n",
    "df_val = df_shuffled.iloc[n_train:n_train+n_val].copy()\n",
    "df_test = df_shuffled.iloc[n_train+n_val:].copy()\n",
    "df_full = pd.concat([df_train, df_val]).reset_index(drop=True)\n",
    "\n",
    "df_test = df_test.reset_index(drop=True)\n",
    "\n",
    "y_full = df_full.median_house_value.values\n",
    "y_test= df_test.median_house_value.values\n",
    "\n",
    "y_full = np.log1p(y_full)\n",
    "y_test = np.log1p(y_test)\n",
    "\n",
    "del df_full['median_house_value']\n",
    "del df_test['median_house_value']\n",
    "     "
   ]
  },
  {
   "cell_type": "code",
   "execution_count": 361,
   "id": "6efcc876",
   "metadata": {},
   "outputs": [
    {
     "data": {
      "text/plain": [
       "0.33"
      ]
     },
     "execution_count": 361,
     "metadata": {},
     "output_type": "execute_result"
    }
   ],
   "source": [
    "X_full = prepare_zero(df_full)\n",
    "w0, w = linear_regression_reg(X_full, y_full, r=0.001)\n",
    "\n",
    "X_test = prepare_zero(df_test)\n",
    "y_pred = w0 + X_test.dot(w)\n",
    "\n",
    "np.round(rmse(y_test, y_pred),2)"
   ]
  },
  {
   "cell_type": "code",
   "execution_count": null,
   "id": "ad6dcd47",
   "metadata": {},
   "outputs": [],
   "source": []
  }
 ],
 "metadata": {
  "kernelspec": {
   "display_name": "Python 3 (ipykernel)",
   "language": "python",
   "name": "python3"
  },
  "language_info": {
   "codemirror_mode": {
    "name": "ipython",
    "version": 3
   },
   "file_extension": ".py",
   "mimetype": "text/x-python",
   "name": "python",
   "nbconvert_exporter": "python",
   "pygments_lexer": "ipython3",
   "version": "3.10.13"
  }
 },
 "nbformat": 4,
 "nbformat_minor": 5
}
