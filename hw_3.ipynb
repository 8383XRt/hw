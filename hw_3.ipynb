{
 "cells": [
  {
   "cell_type": "code",
   "execution_count": 1,
   "id": "7baa15c9",
   "metadata": {},
   "outputs": [],
   "source": [
    "import pandas as pd \n",
    "import numpy as np\n",
    "import requests"
   ]
  },
  {
   "cell_type": "code",
   "execution_count": 2,
   "id": "126c5758",
   "metadata": {},
   "outputs": [],
   "source": [
    "data = 'https://raw.githubusercontent.com/alexeygrigorev/mlbookcamp-code/master/chapter-02-car-price/data.csv'"
   ]
  },
  {
   "cell_type": "code",
   "execution_count": 3,
   "id": "d510b6f1",
   "metadata": {},
   "outputs": [],
   "source": [
    "response = requests.get(data)"
   ]
  },
  {
   "cell_type": "code",
   "execution_count": 4,
   "id": "b9e9415c",
   "metadata": {},
   "outputs": [],
   "source": [
    "with open('hw_3.csv','wb')as csv_file:\n",
    "    csv_file.write(response.content)"
   ]
  },
  {
   "cell_type": "code",
   "execution_count": 2,
   "id": "1f560e79",
   "metadata": {},
   "outputs": [],
   "source": [
    "raw_df = pd.read_csv('hw_3.csv')"
   ]
  },
  {
   "cell_type": "code",
   "execution_count": 3,
   "id": "7bb59bd1",
   "metadata": {},
   "outputs": [],
   "source": [
    "select = ['Make',\n",
    "'Model',\n",
    "'Year',\n",
    "'Engine HP',\n",
    "'Engine Cylinders',\n",
    "'Transmission Type',\n",
    "'Vehicle Style',\n",
    "'highway MPG',\n",
    "'city mpg','MSRP']"
   ]
  },
  {
   "cell_type": "code",
   "execution_count": 4,
   "id": "210098c3",
   "metadata": {},
   "outputs": [
    {
     "data": {
      "text/html": [
       "<div>\n",
       "<style scoped>\n",
       "    .dataframe tbody tr th:only-of-type {\n",
       "        vertical-align: middle;\n",
       "    }\n",
       "\n",
       "    .dataframe tbody tr th {\n",
       "        vertical-align: top;\n",
       "    }\n",
       "\n",
       "    .dataframe thead th {\n",
       "        text-align: right;\n",
       "    }\n",
       "</style>\n",
       "<table border=\"1\" class=\"dataframe\">\n",
       "  <thead>\n",
       "    <tr style=\"text-align: right;\">\n",
       "      <th></th>\n",
       "      <th>Make</th>\n",
       "      <th>Model</th>\n",
       "      <th>Year</th>\n",
       "      <th>Engine HP</th>\n",
       "      <th>Engine Cylinders</th>\n",
       "      <th>Transmission Type</th>\n",
       "      <th>Vehicle Style</th>\n",
       "      <th>highway MPG</th>\n",
       "      <th>city mpg</th>\n",
       "      <th>MSRP</th>\n",
       "    </tr>\n",
       "  </thead>\n",
       "  <tbody>\n",
       "    <tr>\n",
       "      <th>0</th>\n",
       "      <td>BMW</td>\n",
       "      <td>1 Series M</td>\n",
       "      <td>2011</td>\n",
       "      <td>335.0</td>\n",
       "      <td>6.0</td>\n",
       "      <td>MANUAL</td>\n",
       "      <td>Coupe</td>\n",
       "      <td>26</td>\n",
       "      <td>19</td>\n",
       "      <td>46135</td>\n",
       "    </tr>\n",
       "    <tr>\n",
       "      <th>1</th>\n",
       "      <td>BMW</td>\n",
       "      <td>1 Series</td>\n",
       "      <td>2011</td>\n",
       "      <td>300.0</td>\n",
       "      <td>6.0</td>\n",
       "      <td>MANUAL</td>\n",
       "      <td>Convertible</td>\n",
       "      <td>28</td>\n",
       "      <td>19</td>\n",
       "      <td>40650</td>\n",
       "    </tr>\n",
       "    <tr>\n",
       "      <th>2</th>\n",
       "      <td>BMW</td>\n",
       "      <td>1 Series</td>\n",
       "      <td>2011</td>\n",
       "      <td>300.0</td>\n",
       "      <td>6.0</td>\n",
       "      <td>MANUAL</td>\n",
       "      <td>Coupe</td>\n",
       "      <td>28</td>\n",
       "      <td>20</td>\n",
       "      <td>36350</td>\n",
       "    </tr>\n",
       "    <tr>\n",
       "      <th>3</th>\n",
       "      <td>BMW</td>\n",
       "      <td>1 Series</td>\n",
       "      <td>2011</td>\n",
       "      <td>230.0</td>\n",
       "      <td>6.0</td>\n",
       "      <td>MANUAL</td>\n",
       "      <td>Coupe</td>\n",
       "      <td>28</td>\n",
       "      <td>18</td>\n",
       "      <td>29450</td>\n",
       "    </tr>\n",
       "    <tr>\n",
       "      <th>4</th>\n",
       "      <td>BMW</td>\n",
       "      <td>1 Series</td>\n",
       "      <td>2011</td>\n",
       "      <td>230.0</td>\n",
       "      <td>6.0</td>\n",
       "      <td>MANUAL</td>\n",
       "      <td>Convertible</td>\n",
       "      <td>28</td>\n",
       "      <td>18</td>\n",
       "      <td>34500</td>\n",
       "    </tr>\n",
       "    <tr>\n",
       "      <th>...</th>\n",
       "      <td>...</td>\n",
       "      <td>...</td>\n",
       "      <td>...</td>\n",
       "      <td>...</td>\n",
       "      <td>...</td>\n",
       "      <td>...</td>\n",
       "      <td>...</td>\n",
       "      <td>...</td>\n",
       "      <td>...</td>\n",
       "      <td>...</td>\n",
       "    </tr>\n",
       "    <tr>\n",
       "      <th>11909</th>\n",
       "      <td>Acura</td>\n",
       "      <td>ZDX</td>\n",
       "      <td>2012</td>\n",
       "      <td>300.0</td>\n",
       "      <td>6.0</td>\n",
       "      <td>AUTOMATIC</td>\n",
       "      <td>4dr Hatchback</td>\n",
       "      <td>23</td>\n",
       "      <td>16</td>\n",
       "      <td>46120</td>\n",
       "    </tr>\n",
       "    <tr>\n",
       "      <th>11910</th>\n",
       "      <td>Acura</td>\n",
       "      <td>ZDX</td>\n",
       "      <td>2012</td>\n",
       "      <td>300.0</td>\n",
       "      <td>6.0</td>\n",
       "      <td>AUTOMATIC</td>\n",
       "      <td>4dr Hatchback</td>\n",
       "      <td>23</td>\n",
       "      <td>16</td>\n",
       "      <td>56670</td>\n",
       "    </tr>\n",
       "    <tr>\n",
       "      <th>11911</th>\n",
       "      <td>Acura</td>\n",
       "      <td>ZDX</td>\n",
       "      <td>2012</td>\n",
       "      <td>300.0</td>\n",
       "      <td>6.0</td>\n",
       "      <td>AUTOMATIC</td>\n",
       "      <td>4dr Hatchback</td>\n",
       "      <td>23</td>\n",
       "      <td>16</td>\n",
       "      <td>50620</td>\n",
       "    </tr>\n",
       "    <tr>\n",
       "      <th>11912</th>\n",
       "      <td>Acura</td>\n",
       "      <td>ZDX</td>\n",
       "      <td>2013</td>\n",
       "      <td>300.0</td>\n",
       "      <td>6.0</td>\n",
       "      <td>AUTOMATIC</td>\n",
       "      <td>4dr Hatchback</td>\n",
       "      <td>23</td>\n",
       "      <td>16</td>\n",
       "      <td>50920</td>\n",
       "    </tr>\n",
       "    <tr>\n",
       "      <th>11913</th>\n",
       "      <td>Lincoln</td>\n",
       "      <td>Zephyr</td>\n",
       "      <td>2006</td>\n",
       "      <td>221.0</td>\n",
       "      <td>6.0</td>\n",
       "      <td>AUTOMATIC</td>\n",
       "      <td>Sedan</td>\n",
       "      <td>26</td>\n",
       "      <td>17</td>\n",
       "      <td>28995</td>\n",
       "    </tr>\n",
       "  </tbody>\n",
       "</table>\n",
       "<p>11914 rows × 10 columns</p>\n",
       "</div>"
      ],
      "text/plain": [
       "          Make       Model  Year  Engine HP  Engine Cylinders  \\\n",
       "0          BMW  1 Series M  2011      335.0               6.0   \n",
       "1          BMW    1 Series  2011      300.0               6.0   \n",
       "2          BMW    1 Series  2011      300.0               6.0   \n",
       "3          BMW    1 Series  2011      230.0               6.0   \n",
       "4          BMW    1 Series  2011      230.0               6.0   \n",
       "...        ...         ...   ...        ...               ...   \n",
       "11909    Acura         ZDX  2012      300.0               6.0   \n",
       "11910    Acura         ZDX  2012      300.0               6.0   \n",
       "11911    Acura         ZDX  2012      300.0               6.0   \n",
       "11912    Acura         ZDX  2013      300.0               6.0   \n",
       "11913  Lincoln      Zephyr  2006      221.0               6.0   \n",
       "\n",
       "      Transmission Type  Vehicle Style  highway MPG  city mpg   MSRP  \n",
       "0                MANUAL          Coupe           26        19  46135  \n",
       "1                MANUAL    Convertible           28        19  40650  \n",
       "2                MANUAL          Coupe           28        20  36350  \n",
       "3                MANUAL          Coupe           28        18  29450  \n",
       "4                MANUAL    Convertible           28        18  34500  \n",
       "...                 ...            ...          ...       ...    ...  \n",
       "11909         AUTOMATIC  4dr Hatchback           23        16  46120  \n",
       "11910         AUTOMATIC  4dr Hatchback           23        16  56670  \n",
       "11911         AUTOMATIC  4dr Hatchback           23        16  50620  \n",
       "11912         AUTOMATIC  4dr Hatchback           23        16  50920  \n",
       "11913         AUTOMATIC          Sedan           26        17  28995  \n",
       "\n",
       "[11914 rows x 10 columns]"
      ]
     },
     "execution_count": 4,
     "metadata": {},
     "output_type": "execute_result"
    }
   ],
   "source": [
    "ocdf = raw_df[select]\n",
    "ocdf"
   ]
  },
  {
   "cell_type": "code",
   "execution_count": 5,
   "id": "dc307226",
   "metadata": {},
   "outputs": [],
   "source": [
    "ocdf.columns = ocdf.columns.str.replace(' ', '_').str.lower()"
   ]
  },
  {
   "cell_type": "code",
   "execution_count": 6,
   "id": "d89d0e35",
   "metadata": {},
   "outputs": [],
   "source": [
    "ocdf = ocdf.rename(columns = {'msrp':'price'})"
   ]
  },
  {
   "cell_type": "code",
   "execution_count": 7,
   "id": "de44d810",
   "metadata": {
    "collapsed": true
   },
   "outputs": [
    {
     "name": "stdout",
     "output_type": "stream",
     "text": [
      "make\n",
      "48\n",
      "['BMW' 'Audi' 'FIAT' 'Mercedes-Benz' 'Chrysler' 'Nissan' 'Volvo' 'Mazda'\n",
      " 'Mitsubishi' 'Ferrari' 'Alfa Romeo' 'Toyota' 'McLaren' 'Maybach'\n",
      " 'Pontiac' 'Porsche' 'Saab' 'GMC' 'Hyundai' 'Plymouth' 'Honda'\n",
      " 'Oldsmobile' 'Suzuki' 'Ford' 'Cadillac' 'Kia' 'Bentley' 'Chevrolet'\n",
      " 'Dodge' 'Lamborghini' 'Lincoln' 'Subaru' 'Volkswagen' 'Spyker' 'Buick'\n",
      " 'Acura' 'Rolls-Royce' 'Maserati' 'Lexus' 'Aston Martin' 'Land Rover'\n",
      " 'Lotus' 'Infiniti' 'Scion' 'Genesis' 'HUMMER' 'Tesla' 'Bugatti']\n",
      "model\n",
      "915\n",
      "['1 Series M' '1 Series' '100' '124 Spider' '190-Class' '2 Series' '200'\n",
      " '200SX' '240SX' '240' '2' '3 Series Gran Turismo' '3 Series' '300-Class'\n",
      " '3000GT' '300' '300M' '300ZX' '323' '350-Class' '350Z' '360' '370Z' '3'\n",
      " '4 Series Gran Coupe' '4 Series' '400-Class' '420-Class' '456M'\n",
      " '458 Italia' '4C' '4Runner' '5 Series Gran Turismo' '5 Series'\n",
      " '500-Class' '500e' '500' '500L' '500X' '550' '560-Class' '570S' '575M'\n",
      " '57' '599' '5' '6 Series Gran Coupe' '6 Series' '600-Class' '6000'\n",
      " '612 Scaglietti' '626' '62' '650S Coupe' '650S Spider' '6' '7 Series'\n",
      " '718 Cayman' '740' '760' '780' '8 Series' '80' '850' '86' '9-2X'\n",
      " '9-3 Griffin' '9-3' '9-4X' '9-5' '9-7X' '9000' '900' '90' '911' '928'\n",
      " '929' '940' '944' '960' '968' 'A3' 'A4 allroad' 'A4' 'A5' 'A6' 'A7' 'A8'\n",
      " 'Acadia Limited' 'Acadia' 'Accent' 'Acclaim' 'Accord Crosstour'\n",
      " 'Accord Hybrid' 'Accord Plug-In Hybrid' 'Accord' 'Achieva'\n",
      " 'ActiveHybrid 5' 'ActiveHybrid 7' 'ActiveHybrid X6' 'Aerio' 'Aerostar'\n",
      " 'Alero' 'Allante' 'allroad quattro' 'allroad' 'ALPINA B6 Gran Coupe'\n",
      " 'ALPINA B7' 'Alpina' 'Altima Hybrid' 'Altima' 'Amanti' 'AMG GT' 'Armada'\n",
      " 'Arnage' 'Aspen' 'Aspire' 'Astro Cargo' 'Astro' 'ATS Coupe' 'ATS-V' 'ATS'\n",
      " 'Aurora' 'Avalanche' 'Avalon Hybrid' 'Avalon' 'Avenger' 'Aventador'\n",
      " 'Aveo' 'Aviator' 'Axxess' 'Azera' 'Aztek' 'Azure T' 'Azure'\n",
      " 'B-Class Electric Drive' 'B-Series Pickup' 'B-Series Truck' 'B-Series'\n",
      " 'B9 Tribeca' 'Baja' 'Beetle Convertible' 'Beetle' 'Beretta'\n",
      " 'Black Diamond Avalanche' 'Blackwood' 'Blazer' 'Bolt EV' 'Bonneville'\n",
      " 'Borrego' 'Boxster' 'Bravada' 'Breeze' 'Bronco II' 'Bronco' 'Brooklands'\n",
      " 'Brougham' 'BRZ' 'C-Class' 'C-Max Hybrid' 'C30' 'C36 AMG' 'C43 AMG' 'C70'\n",
      " 'C8' 'Cabriolet' 'Cabrio' 'Cadenza' 'Caliber' 'California T' 'California'\n",
      " 'Camaro' 'Camry Hybrid' 'Camry Solara' 'Camry' 'Canyon' 'Caprice'\n",
      " 'Captiva Sport' 'Caravan' 'Carrera GT' 'Cascada' 'Catera' 'Cavalier'\n",
      " 'Cayenne' 'Cayman S' 'Cayman' 'CC' 'Celebrity' 'Celica' 'Century'\n",
      " 'Challenger' 'Charger' 'Chevy Van' 'Ciera' 'Cirrus' 'City Express'\n",
      " 'Civic CRX' 'Civic del Sol' 'Civic' 'C/K 1500 Series' 'C/K 2500 Series'\n",
      " 'CL-Class' 'CLA-Class' 'CL' 'Classic' 'CLK-Class' 'CLS-Class' 'Cobalt'\n",
      " 'Colorado' 'Colt' 'Concorde' 'Continental Flying Spur Speed'\n",
      " 'Continental Flying Spur' 'Continental GT Speed Convertible'\n",
      " 'Continental GT Speed' 'Continental GT3-R' 'Continental GT'\n",
      " 'Continental GTC Speed' 'Continental GTC'\n",
      " 'Continental Supersports Convertible' 'Continental Supersports'\n",
      " 'Continental' 'Contour SVT' 'Contour' 'Corniche' 'Corolla iM' 'Corolla'\n",
      " 'Corrado' 'Corsica' 'Corvette Stingray' 'Corvette' 'Coupe' 'CR-V' 'CR-Z'\n",
      " 'Cressida' 'Crossfire' 'Crosstour' 'Crosstrek' 'Crown Victoria'\n",
      " 'Cruze Limited' 'Cruze' 'CT 200h' 'CT6' 'CTS Coupe' 'CTS-V Coupe'\n",
      " 'CTS-V Wagon' 'CTS-V' 'CTS Wagon' 'CTS' 'Cube' 'Custom Cruiser'\n",
      " 'Cutlass Calais' 'Cutlass Ciera' 'Cutlass Supreme' 'Cutlass' 'CX-3'\n",
      " 'CX-5' 'CX-7' 'CX-9' 'Dakota' 'Dart' 'Dawn' 'Daytona' 'DB7' 'DB9 GT'\n",
      " 'DB9' 'DBS' 'Defender' 'DeVille' 'Diablo' 'Diamante'\n",
      " 'Discovery Series II' 'Discovery Sport' 'Discovery' 'DTS' 'Durango'\n",
      " 'Dynasty' 'E-150' 'E-250' 'E-Class' 'e-Golf' 'E-Series Van'\n",
      " 'E-Series Wagon' 'E55 AMG' 'ECHO' 'Eclipse Spyder' 'Eclipse' 'Edge'\n",
      " 'Eighty-Eight Royale' 'Eighty-Eight' 'Elantra Coupe' 'Elantra GT'\n",
      " 'Elantra Touring' 'Elantra' 'Eldorado' 'Electra' 'Element' 'Elise'\n",
      " 'Enclave' 'Encore' 'Endeavor' 'Entourage' 'Envision' 'Envoy XL'\n",
      " 'Envoy XUV' 'Envoy' 'Enzo' 'Eos' 'Equator' 'Equinox' 'Equus' 'ES 250'\n",
      " 'ES 300h' 'ES 300' 'ES 330' 'ES 350' 'Escalade ESV' 'Escalade EXT'\n",
      " 'Escalade Hybrid' 'Escalade' 'Escape Hybrid' 'Escape' 'Escort' 'Esprit'\n",
      " 'Estate Wagon' 'Esteem' 'EuroVan' 'Evora 400' 'Evora' 'EX35' 'Excel'\n",
      " 'Exige' 'EX' 'Expedition' 'Explorer Sport Trac' 'Explorer Sport'\n",
      " 'Explorer' 'Expo' 'Express Cargo' 'Express' 'F-150 Heritage'\n",
      " 'F-150 SVT Lightning' 'F-150' 'F-250' 'F12 Berlinetta' 'F430' 'Festiva'\n",
      " 'FF' 'Fiesta' 'Firebird' 'Fit EV' 'Fit' 'Five Hundred' 'FJ Cruiser'\n",
      " 'Fleetwood' 'Flex' 'Flying Spur' 'Focus RS' 'Focus ST' 'Focus' 'Forenza'\n",
      " 'Forester' 'Forte' 'Fox' 'FR-S' 'Freelander' 'Freestar' 'Freestyle'\n",
      " 'Frontier' 'Fusion Hybrid' 'Fusion' 'FX35' 'FX45' 'FX50' 'FX' 'G-Class'\n",
      " 'G Convertible' 'G Coupe' 'G Sedan' 'G20' 'G35' 'G37 Convertible'\n",
      " 'G37 Coupe' 'G37 Sedan' 'G37' 'G3' 'G5' 'G6' 'G80' 'G8' 'Galant'\n",
      " 'Gallardo' 'Genesis Coupe' 'Genesis' 'Ghibli' 'Ghost Series II' 'Ghost'\n",
      " 'GL-Class' 'GLA-Class' 'GLC-Class' 'GLE-Class Coupe' 'GLE-Class' 'GLI'\n",
      " 'GLK-Class' 'GLS-Class' 'Golf Alltrack' 'Golf GTI' 'Golf R'\n",
      " 'Golf SportWagen' 'Golf' 'Grand Am' 'Grand Caravan' 'Grand Prix'\n",
      " 'Grand Vitara' 'Grand Voyager' 'GranSport' 'GranTurismo Convertible'\n",
      " 'GranTurismo' 'GS 200t' 'GS 300' 'GS 350' 'GS 400' 'GS 430' 'GS 450h'\n",
      " 'GS 460' 'GS F' 'GT-R' 'GT' 'GTI' 'GTO' 'GX 460' 'GX 470' 'H3' 'H3T'\n",
      " 'HHR' 'Highlander Hybrid' 'Highlander' 'Horizon' 'HR-V' 'HS 250h'\n",
      " 'Huracan' 'i-MiEV' 'I30' 'I35' 'i3' 'iA' 'ILX Hybrid' 'ILX'\n",
      " 'Impala Limited' 'Impala' 'Imperial' 'Impreza WRX' 'Impreza' 'iM'\n",
      " 'Insight' 'Integra' 'Intrepid' 'Intrigue' 'iQ' 'IS 200t' 'IS 250 C'\n",
      " 'IS 250' 'IS 300' 'IS 350 C' 'IS 350' 'IS F' 'J30' 'Jetta GLI'\n",
      " 'Jetta Hybrid' 'Jetta SportWagen' 'Jetta' 'Jimmy' 'Journey' 'Juke'\n",
      " 'Justy' 'JX' 'K900' 'Kizashi' 'LaCrosse' 'Lancer Evolution'\n",
      " 'Lancer Sportback' 'Lancer' 'Land Cruiser' 'Landaulet' 'Laser' 'Le Baron'\n",
      " 'Le Mans' 'Leaf' 'Legacy' 'Legend' 'LeSabre' 'Levante' 'LFA' 'LHS'\n",
      " 'Loyale' 'LR2' 'LR3' 'LR4' 'LS 400' 'LS 430' 'LS 460' 'LS 600h L' 'LS'\n",
      " 'LSS' 'LTD Crown Victoria' 'Lucerne' 'Lumina Minivan' 'Lumina' 'LX 450'\n",
      " 'LX 470' 'LX 570' 'M-Class' 'M2' 'M30' 'M35' 'M37' 'M3' 'M4 GTS' 'M45'\n",
      " 'M4' 'M56' 'M5' 'M6 Gran Coupe' 'M6' 'Macan' 'Magnum' 'Malibu Classic'\n",
      " 'Malibu Hybrid' 'Malibu Limited' 'Malibu Maxx' 'Malibu' 'Mark LT'\n",
      " 'Mark VIII' 'Mark VII' 'Matrix' 'Maxima' 'Maybach' 'Mazdaspeed 3'\n",
      " 'Mazdaspeed 6' 'Mazdaspeed MX-5 Miata' 'Mazdaspeed Protege' 'M' 'MDX'\n",
      " 'Metris' 'Metro' 'Mighty Max Pickup' 'Millenia' 'Mirage G4' 'Mirage'\n",
      " 'MKC' 'MKS' 'MKT' 'MKX' 'MKZ Hybrid' 'MKZ' 'ML55 AMG' 'Model S' 'Monaco'\n",
      " 'Montana SV6' 'Montana' 'Monte Carlo' 'Montero Sport' 'Montero' 'MP4-12C'\n",
      " 'MPV' 'MR2 Spyder' 'MR2' 'Mulsanne' 'Murano CrossCabriolet' 'Murano'\n",
      " 'Murcielago' 'Mustang SVT Cobra' 'Mustang' 'MX-3' 'MX-5 Miata' 'MX-6'\n",
      " 'Navajo' 'Navigator' 'Neon' 'New Beetle' 'New Yorker' 'Ninety-Eight'\n",
      " 'Nitro' 'NSX' 'NV200' 'NX 200t' 'NX 300h' 'NX' 'Odyssey' 'Omni'\n",
      " 'Optima Hybrid' 'Optima' 'Outback' 'Outlander Sport' 'Outlander'\n",
      " 'Pacifica' 'Panamera' 'Park Avenue' 'Park Ward' 'Paseo' 'Passat'\n",
      " 'Passport' 'Pathfinder' 'Phaeton' 'Phantom Coupe'\n",
      " 'Phantom Drophead Coupe' 'Phantom' 'Pickup' 'Pilot' 'Precis' 'Prelude'\n",
      " 'Previa' 'Prius c' 'Prius Prime' 'Prius v' 'Prius' 'Prizm' 'Probe'\n",
      " 'Protege5' 'Protege' 'Prowler' 'PT Cruiser' 'Pulsar' 'Q3' 'Q40' 'Q45'\n",
      " 'Q50' 'Q5' 'Q60 Convertible' 'Q60 Coupe' 'Q70' 'Q7' 'Quattroporte'\n",
      " 'Quest' 'QX4' 'QX50' 'QX56' 'QX60' 'QX70' 'QX80' 'QX' 'R-Class' 'R32'\n",
      " 'R8' 'Rabbit' 'Raider' 'Rainier' 'Rally Wagon' 'RAM 150' 'RAM 250'\n",
      " 'Ram 50 Pickup' 'Ram Cargo' 'Ram Pickup 1500' 'Ram Van' 'Ram Wagon'\n",
      " 'Ramcharger' 'Range Rover Evoque' 'Range Rover Sport' 'Range Rover'\n",
      " 'Ranger' 'Rapide S' 'Rapide' 'RAV4 EV' 'RAV4 Hybrid' 'RAV4' 'RC 200t'\n",
      " 'RC 300' 'RC 350' 'RC F' 'RDX' 'Reatta' 'Regal' 'Regency' 'Rendezvous'\n",
      " 'Reno' 'Reventon' 'Ridgeline' 'Rio' 'Riviera' 'RL' 'RLX' 'Roadmaster'\n",
      " 'Rogue Select' 'Rogue' 'Rondo' 'Routan' 'RS 4' 'RS 5' 'RS 6' 'RS 7' 'RSX'\n",
      " 'RX 300' 'RX 330' 'RX 350' 'RX 400h' 'RX 450h' 'RX-7' 'RX-8'\n",
      " 'S-10 Blazer' 'S-10' 'S-15 Jimmy' 'S-15' 'S-Class' 'S2000' 'S3' 'S40'\n",
      " 'S4' 'S5' 'S60 Cross Country' 'S60' 'S6' 'S70' 'S7' 'S80' 'S8' 'S90'\n",
      " 'Safari Cargo' 'Safari' 'Samurai' 'Santa Fe Sport' 'Santa Fe'\n",
      " 'Savana Cargo' 'Savana' 'SC 300' 'SC 400' 'SC 430' 'Scoupe' 'Sebring'\n",
      " 'Sedona' 'Sentra' 'Sephia' 'Sequoia' 'Seville' 'Shadow' 'Shelby GT350'\n",
      " 'Shelby GT500' 'Sidekick' 'Sienna' 'Sierra 1500 Classic'\n",
      " 'Sierra 1500 Hybrid' 'Sierra 1500' 'Sierra 1500HD' 'Sierra C3'\n",
      " 'Sierra Classic 1500' 'Sigma' 'Silhouette' 'Silver Seraph'\n",
      " 'Silverado 1500 Classic' 'Silverado 1500 Hybrid' 'Silverado 1500'\n",
      " 'Sixty Special' 'Skylark' 'SL-Class' 'SLC-Class' 'SLK-Class'\n",
      " 'SLR McLaren' 'SLS AMG GT Final Edition' 'SLS AMG GT' 'SLS AMG' 'SLX'\n",
      " 'Solstice' 'Sonata Hybrid' 'Sonata' 'Sonic' 'Sonoma' 'Sorento' 'Soul EV'\n",
      " 'Soul' 'Spark EV' 'Spark' 'Spectra' 'Spirit' 'Sportage' 'Sportvan'\n",
      " 'Spyder' 'SQ5' 'SRT Viper' 'SRX' 'SS' 'SSR' 'Stanza' 'Stealth' 'Stratus'\n",
      " 'STS-V' 'STS' 'Suburban' 'Sunbird' 'Sundance' 'Sunfire' 'Superamerica'\n",
      " 'Supersports Convertible ISR' 'Supra' 'SVX' 'Swift' 'SX4' 'Syclone'\n",
      " 'T100' 'Tacoma' 'Tahoe Hybrid' 'Tahoe Limited/Z71' 'Tahoe' 'Taurus X'\n",
      " 'Taurus' 'TC' 'tC' 'Tempo' 'Tercel' 'Terrain' 'Terraza' 'Thunderbird'\n",
      " 'Tiburon' 'Tiguan' 'Titan' 'TL' 'TLX' 'Toronado' 'Torrent' 'Touareg 2'\n",
      " 'Touareg' 'Town and Country' 'Town Car' 'Tracker' 'TrailBlazer EXT'\n",
      " 'TrailBlazer' 'Trans Sport' 'Transit Connect' 'Transit Wagon' 'Traverse'\n",
      " 'Trax' 'Tribeca' 'Tribute Hybrid' 'Tribute' 'Truck' 'TSX Sport Wagon'\n",
      " 'TSX' 'TT RS' 'TT' 'TTS' 'Tucson' 'Tundra' 'Typhoon' 'Uplander'\n",
      " 'V12 Vanquish' 'V12 Vantage S' 'V12 Vantage' 'V40' 'V50'\n",
      " 'V60 Cross Country' 'V60' 'V70' 'V8 Vantage' 'V8' 'V90' 'Vanagon'\n",
      " 'Vandura' 'Van' 'Vanquish' 'Vanwagon' 'Veloster' 'Venture' 'Venza'\n",
      " 'Veracruz' 'Verano' 'Verona' 'Versa Note' 'Versa' 'Veyron 16.4' 'Vibe'\n",
      " 'Vigor' 'Viper' 'Virage' 'Vitara' 'Voyager' 'Windstar Cargo' 'Windstar'\n",
      " 'Wraith' 'WRX' 'X-90' 'X1' 'X3' 'X4' 'X5 M' 'X5' 'X6 M' 'X6' 'xA' 'xB'\n",
      " 'XC60' 'XC70' 'XC90' 'XC' 'xD' 'XG300' 'XG350' 'XL-7' 'XL7' 'XLR-V' 'XLR'\n",
      " 'XT5' 'Xterra' 'XTS' 'XT' 'XV Crosstrek' 'Yaris iA' 'Yaris'\n",
      " 'Yukon Denali' 'Yukon Hybrid' 'Yukon XL' 'Yukon' 'Z3' 'Z4 M' 'Z4' 'Z8'\n",
      " 'ZDX' 'Zephyr']\n",
      "year\n",
      "28\n",
      "[2011 2012 2013 1992 1993 1994 2017 1991 2016 1990 2015 1996 1997 1998\n",
      " 2014 1999 2002 2003 2004 1995 2007 2008 2009 2001 2010 2000 2005 2006]\n",
      "engine_hp\n",
      "356\n",
      "[ 335.  300.  230.  320.  172.  160.  130.  158.  240.  248.  162.  217.\n",
      "  184.  295.  115.  140.  155.  114.  100.  241.  180.  177.  228.  121.\n",
      "  148.  194.  218.  161.  292.  250.  255.  222.   82.  134.  306.  400.\n",
      "  425.  350.  332.  268.  282.  275.  201.  442.  562.  597.  237.  270.\n",
      "  445.  443.  302.  322.  315.   nan  101.  135.  485.  238.  515.  543.\n",
      "  631.  604.  620.  611.  661.  157.  402.  389.  110.  532.  170.  165.\n",
      "  125.  641.  535.  153.  144.  188.  372.  108.  168.  190.  205.  200.\n",
      "  227.  173.  220.  210.  280.  207.  265.  260.  290.  285.  390.  225.\n",
      "  185.  150.  430.  520.  560.  475.  500.  540.  370.  580.  420.  345.\n",
      "  195.  193.  208.  181.  236.  186.  252.  310.  333.  340.  450.  281.\n",
      "  288.  138.  137.  106.  271.  196.  212.  278.  189.  480.  152.  600.\n",
      "  375.  198.  182.  179.  264.  503.  456.  317.  235.  385.  303.   63.\n",
      "  321.  272.  464.  202.  215.  283.  700.  720.  750.  107.  293.  119.\n",
      "  143.  245.  120.  337.  276.  330.  132.  199.  530.  451.  329.  469.\n",
      "  362.   94.  553.  453.  483.  323.  426.  505.  455.  650.  178.  242.\n",
      "  305.  605.  440.  570.  325.  175.  707.  131.   62.   92.  102.  127.\n",
      "  174.  621.  510.  429.  536.  355.  382.  577.  113.  136.  234.  552.\n",
      "  626.  616.  572.  521.  567.  582.  460.  164.  192.  224.  239.  404.\n",
      "  318.  556.  640.  122.  146.  244.  273.  563.  141.  435.  550.  360.\n",
      "  145.  349.  166.  147.  128.  197.  291.  660.  261.  156.  403.   95.\n",
      "  297.   81.  257.  365.  203.  231.  731.  651.  287.  123.  126.  416.\n",
      "  343.  348.  328.  298.  171.  219.  221.  311.  361.  256.  415.  274.\n",
      "  449.  395.  401.  454.  444.  338.  342.  467.  545.  565.  301.  263.\n",
      "   93.  187.  610.   66.  111.   98.  204.  211.   73.  304.  381.  142.\n",
      "   74.  424.  253.   90.  386.  359.  438.  232.  383.  518.  493.  259.\n",
      "  523.   55.   79.  116.  151.   78.  191.  592.  632.  670.   88.  167.\n",
      "  118.  380.  214.  573.  284.   99.  103.  525.  254.  470.  154.  176.\n",
      "  279.  377.  251.  223.  308.  105.  316.  124.  526.  662.  266.  296.\n",
      "  557.  617.  583.  622.   84.  163.  354.  159.   96.  206.  169.  133.\n",
      "  568.  109. 1001.  645.  490.  624.  410.   97.  394.]\n",
      "engine_cylinders\n",
      "9\n",
      "[ 6.  4.  5.  8. 12.  0. nan 10.  3. 16.]\n",
      "transmission_type\n",
      "5\n",
      "['MANUAL' 'AUTOMATIC' 'AUTOMATED_MANUAL' 'DIRECT_DRIVE' 'UNKNOWN']\n",
      "vehicle_style\n",
      "16\n",
      "['Coupe' 'Convertible' 'Sedan' 'Wagon' '4dr Hatchback' '2dr Hatchback'\n",
      " '4dr SUV' 'Passenger Minivan' 'Cargo Minivan' 'Crew Cab Pickup'\n",
      " 'Regular Cab Pickup' 'Extended Cab Pickup' '2dr SUV' 'Cargo Van'\n",
      " 'Convertible SUV' 'Passenger Van']\n",
      "highway_mpg\n",
      "59\n",
      "[ 26  28  27  25  24  20  21  22  35  34  31  30  32  33  23  36  29  45\n",
      "  43  40  42  19  18  17  15  37  39  41  16  14  38 108 103  12 354  47\n",
      "  46  82 110  44  13 105  99 102 111 106  48 101  90  97  94  98 100 107\n",
      "  53  50  74  92 109]\n",
      "city_mpg\n",
      "69\n",
      "[ 19  20  18  17  16  26  23  22  21  24  15  25  29  28  32  31  30  14\n",
      "  10  27  12  13   9  11 122 121   8  50  49  47  35  33  40  85 128  42\n",
      "  43  36  44 126   7  34 132 110 137 129  39  41 124  37  88  94  86 101\n",
      "  95  89 102  98  92  97  91  53  55  51  54  58  78  38 120]\n",
      "price\n",
      "6049\n",
      "[46135 40650 36350 ... 46120 50620 50920]\n"
     ]
    }
   ],
   "source": [
    "for c in ocdf.columns:\n",
    "    print(c)\n",
    "    print(ocdf[c].nunique())\n",
    "    print(ocdf[c].unique())"
   ]
  },
  {
   "cell_type": "code",
   "execution_count": 8,
   "id": "b9e32ea2",
   "metadata": {},
   "outputs": [
    {
     "data": {
      "text/plain": [
       "make                  0\n",
       "model                 0\n",
       "year                  0\n",
       "engine_hp            69\n",
       "engine_cylinders     30\n",
       "transmission_type     0\n",
       "vehicle_style         0\n",
       "highway_mpg           0\n",
       "city_mpg              0\n",
       "price                 0\n",
       "dtype: int64"
      ]
     },
     "execution_count": 8,
     "metadata": {},
     "output_type": "execute_result"
    }
   ],
   "source": [
    "ocdf.isnull().sum()"
   ]
  },
  {
   "cell_type": "code",
   "execution_count": 9,
   "id": "f63ea4cc",
   "metadata": {},
   "outputs": [
    {
     "data": {
      "text/plain": [
       "dtype('float64')"
      ]
     },
     "execution_count": 9,
     "metadata": {},
     "output_type": "execute_result"
    }
   ],
   "source": [
    "ocdf.engine_hp.dtype"
   ]
  },
  {
   "cell_type": "code",
   "execution_count": 10,
   "id": "b5384875",
   "metadata": {
    "scrolled": true
   },
   "outputs": [
    {
     "data": {
      "text/plain": [
       "make                  object\n",
       "model                 object\n",
       "year                   int64\n",
       "engine_hp            float64\n",
       "engine_cylinders     float64\n",
       "transmission_type     object\n",
       "vehicle_style         object\n",
       "highway_mpg            int64\n",
       "city_mpg               int64\n",
       "price                  int64\n",
       "dtype: object"
      ]
     },
     "execution_count": 10,
     "metadata": {},
     "output_type": "execute_result"
    }
   ],
   "source": [
    "ocdf.dtypes"
   ]
  },
  {
   "cell_type": "code",
   "execution_count": 33,
   "id": "6f10b269",
   "metadata": {},
   "outputs": [],
   "source": [
    "categorical = ocdf.dtypes[ocdf.dtypes == 'object'].index"
   ]
  },
  {
   "cell_type": "code",
   "execution_count": 35,
   "id": "211d26f5",
   "metadata": {},
   "outputs": [
    {
     "data": {
      "text/plain": [
       "4"
      ]
     },
     "execution_count": 35,
     "metadata": {},
     "output_type": "execute_result"
    }
   ],
   "source": [
    "len(categorical)"
   ]
  },
  {
   "cell_type": "code",
   "execution_count": 11,
   "id": "f0f548e2",
   "metadata": {},
   "outputs": [],
   "source": [
    "ocdf.engine_hp = ocdf.engine_hp.fillna(0)"
   ]
  },
  {
   "cell_type": "code",
   "execution_count": 12,
   "id": "4b4c93c8",
   "metadata": {},
   "outputs": [
    {
     "data": {
      "text/plain": [
       "dtype('float64')"
      ]
     },
     "execution_count": 12,
     "metadata": {},
     "output_type": "execute_result"
    }
   ],
   "source": [
    "ocdf.engine_cylinders.dtype"
   ]
  },
  {
   "cell_type": "code",
   "execution_count": 13,
   "id": "557d2760",
   "metadata": {},
   "outputs": [],
   "source": [
    "ocdf.engine_cylinders = ocdf.engine_cylinders.fillna(0)"
   ]
  },
  {
   "cell_type": "code",
   "execution_count": 14,
   "id": "1c2af5a4",
   "metadata": {},
   "outputs": [
    {
     "data": {
      "text/plain": [
       "make                 0\n",
       "model                0\n",
       "year                 0\n",
       "engine_hp            0\n",
       "engine_cylinders     0\n",
       "transmission_type    0\n",
       "vehicle_style        0\n",
       "highway_mpg          0\n",
       "city_mpg             0\n",
       "price                0\n",
       "dtype: int64"
      ]
     },
     "execution_count": 14,
     "metadata": {},
     "output_type": "execute_result"
    }
   ],
   "source": [
    "ocdf.isnull().sum()"
   ]
  },
  {
   "cell_type": "markdown",
   "id": "64d4c3a2",
   "metadata": {},
   "source": [
    "# Question 1"
   ]
  },
  {
   "cell_type": "code",
   "execution_count": 15,
   "id": "399cb212",
   "metadata": {},
   "outputs": [
    {
     "data": {
      "text/plain": [
       "transmission_type\n",
       "AUTOMATIC           8266\n",
       "MANUAL              2935\n",
       "AUTOMATED_MANUAL     626\n",
       "DIRECT_DRIVE          68\n",
       "UNKNOWN               19\n",
       "Name: count, dtype: int64"
      ]
     },
     "execution_count": 15,
     "metadata": {},
     "output_type": "execute_result"
    }
   ],
   "source": [
    "ocdf.transmission_type.value_counts()"
   ]
  },
  {
   "cell_type": "markdown",
   "id": "bd79a0fe",
   "metadata": {},
   "source": [
    "# Question 2"
   ]
  },
  {
   "cell_type": "code",
   "execution_count": 16,
   "id": "f35c77fc",
   "metadata": {
    "scrolled": false
   },
   "outputs": [],
   "source": [
    "numerical = ['engine_hp','year','engine_cylinders','highway_mpg','city_mpg']"
   ]
  },
  {
   "cell_type": "code",
   "execution_count": 17,
   "id": "400eb30a",
   "metadata": {},
   "outputs": [
    {
     "data": {
      "text/plain": [
       "engine_hp           0.650095\n",
       "year                0.227590\n",
       "engine_cylinders    0.526274\n",
       "highway_mpg        -0.160043\n",
       "city_mpg           -0.157676\n",
       "dtype: float64"
      ]
     },
     "execution_count": 17,
     "metadata": {},
     "output_type": "execute_result"
    }
   ],
   "source": [
    "ocdf[numerical ].corrwith(ocdf.price)"
   ]
  },
  {
   "cell_type": "code",
   "execution_count": 18,
   "id": "39136d1e",
   "metadata": {},
   "outputs": [
    {
     "data": {
      "text/plain": [
       "40594.737032063116"
      ]
     },
     "execution_count": 18,
     "metadata": {},
     "output_type": "execute_result"
    }
   ],
   "source": [
    "ocdf.price.mean()"
   ]
  },
  {
   "cell_type": "code",
   "execution_count": 19,
   "id": "71046a75",
   "metadata": {},
   "outputs": [],
   "source": [
    "ocdf['above_average']= (ocdf.price>ocdf.price.mean()).astype(int)"
   ]
  },
  {
   "cell_type": "code",
   "execution_count": 27,
   "id": "a5706cdb",
   "metadata": {
    "collapsed": true
   },
   "outputs": [
    {
     "data": {
      "text/plain": [
       "0        1\n",
       "1        1\n",
       "2        0\n",
       "3        0\n",
       "4        0\n",
       "        ..\n",
       "11909    1\n",
       "11910    1\n",
       "11911    1\n",
       "11912    1\n",
       "11913    0\n",
       "Name: above_average, Length: 11914, dtype: int32"
      ]
     },
     "execution_count": 27,
     "metadata": {},
     "output_type": "execute_result"
    }
   ],
   "source": [
    "ocdf.above_average"
   ]
  },
  {
   "cell_type": "code",
   "execution_count": 91,
   "id": "8d1006d8",
   "metadata": {},
   "outputs": [
    {
     "data": {
      "text/plain": [
       "Index(['make', 'model', 'year', 'engine_hp', 'engine_cylinders',\n",
       "       'transmission_type', 'vehicle_style', 'highway_mpg', 'city_mpg',\n",
       "       'price', 'above_average'],\n",
       "      dtype='object')"
      ]
     },
     "execution_count": 91,
     "metadata": {},
     "output_type": "execute_result"
    }
   ],
   "source": [
    "ocdf.columns"
   ]
  },
  {
   "cell_type": "code",
   "execution_count": 92,
   "id": "98e75cdd",
   "metadata": {},
   "outputs": [],
   "source": [
    "ocdf_1 = ocdf.drop('price',axis=1)"
   ]
  },
  {
   "cell_type": "code",
   "execution_count": 93,
   "id": "74df0314",
   "metadata": {},
   "outputs": [],
   "source": [
    "from sklearn.model_selection import train_test_split"
   ]
  },
  {
   "cell_type": "code",
   "execution_count": 94,
   "id": "066f25ff",
   "metadata": {},
   "outputs": [],
   "source": [
    "df_full_train,df_test = train_test_split(ocdf_1,test_size=0.2,random_state=42)\n",
    "df_val,df_train = train_test_split(df_full_train,test_size=0.25,random_state=42)"
   ]
  },
  {
   "cell_type": "code",
   "execution_count": 95,
   "id": "01ea5802",
   "metadata": {},
   "outputs": [
    {
     "data": {
      "text/plain": [
       "(2383, 10)"
      ]
     },
     "execution_count": 95,
     "metadata": {},
     "output_type": "execute_result"
    }
   ],
   "source": [
    "df_train.shape"
   ]
  },
  {
   "cell_type": "code",
   "execution_count": 98,
   "id": "9fec5cf9",
   "metadata": {},
   "outputs": [],
   "source": [
    "df_train = df_train.reset_index(drop=True)\n",
    "df_val = df_val.reset_index(drop=True)\n",
    "df_test = df_test.reset_index(drop=True)"
   ]
  },
  {
   "cell_type": "code",
   "execution_count": 99,
   "id": "8d873bc2",
   "metadata": {},
   "outputs": [],
   "source": [
    "y_train = df_train.above_average.values\n",
    "y_val = df_val.above_average.values\n",
    "y_test = df_test.above_average.values"
   ]
  },
  {
   "cell_type": "code",
   "execution_count": 100,
   "id": "b6a484d7",
   "metadata": {},
   "outputs": [],
   "source": [
    "#del df_train['above_average']\n",
    "#del df_val['above_average']\n",
    "#del df_test['above_average']"
   ]
  },
  {
   "cell_type": "code",
   "execution_count": 101,
   "id": "2c9232fe",
   "metadata": {},
   "outputs": [],
   "source": [
    "from sklearn.metrics import mutual_info_score"
   ]
  },
  {
   "cell_type": "code",
   "execution_count": 103,
   "id": "fd4aace6",
   "metadata": {},
   "outputs": [
    {
     "data": {
      "text/plain": [
       "0.24417216328579872"
      ]
     },
     "execution_count": 103,
     "metadata": {},
     "output_type": "execute_result"
    }
   ],
   "source": [
    "mutual_info_score(df_train.above_average,df_train.make)"
   ]
  },
  {
   "cell_type": "code",
   "execution_count": 106,
   "id": "26b07990",
   "metadata": {
    "scrolled": true
   },
   "outputs": [],
   "source": [
    "def mutual_above_avg(series):\n",
    "    score = mutual_info_score(df_train.above_average,series)\n",
    "    return round(score,2)"
   ]
  },
  {
   "cell_type": "code",
   "execution_count": 108,
   "id": "64b3dd17",
   "metadata": {},
   "outputs": [
    {
     "data": {
      "text/plain": [
       "make                 0.24\n",
       "model                0.49\n",
       "transmission_type    0.02\n",
       "vehicle_style        0.08\n",
       "dtype: float64"
      ]
     },
     "execution_count": 108,
     "metadata": {},
     "output_type": "execute_result"
    }
   ],
   "source": [
    "df_train[categorical].apply(mutual_above_avg)"
   ]
  },
  {
   "cell_type": "markdown",
   "id": "a5f24c94",
   "metadata": {},
   "source": [
    "# Question 4 "
   ]
  },
  {
   "cell_type": "code",
   "execution_count": 109,
   "id": "eed62fbe",
   "metadata": {},
   "outputs": [],
   "source": [
    "df_train = df_train.drop('above_average', axis=1)\n",
    "df_val = df_val.drop('above_average', axis=1)\n",
    "df_test = df_test.drop('above_average', axis=1)"
   ]
  },
  {
   "cell_type": "code",
   "execution_count": 110,
   "id": "fc0fdee6",
   "metadata": {},
   "outputs": [],
   "source": [
    "from sklearn.feature_extraction import DictVectorizer"
   ]
  },
  {
   "cell_type": "code",
   "execution_count": 113,
   "id": "b7189111",
   "metadata": {},
   "outputs": [
    {
     "data": {
      "text/plain": [
       "Index(['make', 'model', 'transmission_type', 'vehicle_style'], dtype='object')"
      ]
     },
     "execution_count": 113,
     "metadata": {},
     "output_type": "execute_result"
    }
   ],
   "source": [
    "df_train.dtypes[df_train.dtypes=='object'].index"
   ]
  },
  {
   "cell_type": "code",
   "execution_count": 112,
   "id": "9f0fdf3c",
   "metadata": {},
   "outputs": [],
   "source": [
    "numerical = ['year', 'engine_hp', 'engine_cylinders', 'highway_mpg', 'city_mpg']"
   ]
  },
  {
   "cell_type": "code",
   "execution_count": 116,
   "id": "1a80e82d",
   "metadata": {},
   "outputs": [],
   "source": [
    "categorical = ['make', 'model', 'transmission_type', 'vehicle_style']"
   ]
  },
  {
   "cell_type": "code",
   "execution_count": 126,
   "id": "6b991b32",
   "metadata": {},
   "outputs": [],
   "source": [
    "dv = DictVectorizer(sparse=False)\n",
    "\n",
    "train_dict = df_train[categorical+numerical].to_dict(orient = 'records')\n",
    "X_train = dv.fit_transform(train_dict)\n",
    "\n",
    "val_dict = df_val[categorical+numerical].to_dict(orient='records')\n",
    "X_val = dv.transform(val_dict)"
   ]
  },
  {
   "cell_type": "code",
   "execution_count": 127,
   "id": "0ec04ee4",
   "metadata": {},
   "outputs": [
    {
     "data": {
      "text/plain": [
       "((2383, 788), (7148, 788))"
      ]
     },
     "execution_count": 127,
     "metadata": {},
     "output_type": "execute_result"
    }
   ],
   "source": [
    "X_train.shape,X_val.shape"
   ]
  },
  {
   "cell_type": "code",
   "execution_count": 137,
   "id": "17506b75",
   "metadata": {},
   "outputs": [],
   "source": [
    "from sklearn.linear_model import LogisticRegression\n",
    "from sklearn.metrics import accuracy_score"
   ]
  },
  {
   "cell_type": "code",
   "execution_count": 138,
   "id": "eb73d7ec",
   "metadata": {},
   "outputs": [
    {
     "data": {
      "text/html": [
       "<style>#sk-container-id-5 {color: black;}#sk-container-id-5 pre{padding: 0;}#sk-container-id-5 div.sk-toggleable {background-color: white;}#sk-container-id-5 label.sk-toggleable__label {cursor: pointer;display: block;width: 100%;margin-bottom: 0;padding: 0.3em;box-sizing: border-box;text-align: center;}#sk-container-id-5 label.sk-toggleable__label-arrow:before {content: \"▸\";float: left;margin-right: 0.25em;color: #696969;}#sk-container-id-5 label.sk-toggleable__label-arrow:hover:before {color: black;}#sk-container-id-5 div.sk-estimator:hover label.sk-toggleable__label-arrow:before {color: black;}#sk-container-id-5 div.sk-toggleable__content {max-height: 0;max-width: 0;overflow: hidden;text-align: left;background-color: #f0f8ff;}#sk-container-id-5 div.sk-toggleable__content pre {margin: 0.2em;color: black;border-radius: 0.25em;background-color: #f0f8ff;}#sk-container-id-5 input.sk-toggleable__control:checked~div.sk-toggleable__content {max-height: 200px;max-width: 100%;overflow: auto;}#sk-container-id-5 input.sk-toggleable__control:checked~label.sk-toggleable__label-arrow:before {content: \"▾\";}#sk-container-id-5 div.sk-estimator input.sk-toggleable__control:checked~label.sk-toggleable__label {background-color: #d4ebff;}#sk-container-id-5 div.sk-label input.sk-toggleable__control:checked~label.sk-toggleable__label {background-color: #d4ebff;}#sk-container-id-5 input.sk-hidden--visually {border: 0;clip: rect(1px 1px 1px 1px);clip: rect(1px, 1px, 1px, 1px);height: 1px;margin: -1px;overflow: hidden;padding: 0;position: absolute;width: 1px;}#sk-container-id-5 div.sk-estimator {font-family: monospace;background-color: #f0f8ff;border: 1px dotted black;border-radius: 0.25em;box-sizing: border-box;margin-bottom: 0.5em;}#sk-container-id-5 div.sk-estimator:hover {background-color: #d4ebff;}#sk-container-id-5 div.sk-parallel-item::after {content: \"\";width: 100%;border-bottom: 1px solid gray;flex-grow: 1;}#sk-container-id-5 div.sk-label:hover label.sk-toggleable__label {background-color: #d4ebff;}#sk-container-id-5 div.sk-serial::before {content: \"\";position: absolute;border-left: 1px solid gray;box-sizing: border-box;top: 0;bottom: 0;left: 50%;z-index: 0;}#sk-container-id-5 div.sk-serial {display: flex;flex-direction: column;align-items: center;background-color: white;padding-right: 0.2em;padding-left: 0.2em;position: relative;}#sk-container-id-5 div.sk-item {position: relative;z-index: 1;}#sk-container-id-5 div.sk-parallel {display: flex;align-items: stretch;justify-content: center;background-color: white;position: relative;}#sk-container-id-5 div.sk-item::before, #sk-container-id-5 div.sk-parallel-item::before {content: \"\";position: absolute;border-left: 1px solid gray;box-sizing: border-box;top: 0;bottom: 0;left: 50%;z-index: -1;}#sk-container-id-5 div.sk-parallel-item {display: flex;flex-direction: column;z-index: 1;position: relative;background-color: white;}#sk-container-id-5 div.sk-parallel-item:first-child::after {align-self: flex-end;width: 50%;}#sk-container-id-5 div.sk-parallel-item:last-child::after {align-self: flex-start;width: 50%;}#sk-container-id-5 div.sk-parallel-item:only-child::after {width: 0;}#sk-container-id-5 div.sk-dashed-wrapped {border: 1px dashed gray;margin: 0 0.4em 0.5em 0.4em;box-sizing: border-box;padding-bottom: 0.4em;background-color: white;}#sk-container-id-5 div.sk-label label {font-family: monospace;font-weight: bold;display: inline-block;line-height: 1.2em;}#sk-container-id-5 div.sk-label-container {text-align: center;}#sk-container-id-5 div.sk-container {/* jupyter's `normalize.less` sets `[hidden] { display: none; }` but bootstrap.min.css set `[hidden] { display: none !important; }` so we also need the `!important` here to be able to override the default hidden behavior on the sphinx rendered scikit-learn.org. See: https://github.com/scikit-learn/scikit-learn/issues/21755 */display: inline-block !important;position: relative;}#sk-container-id-5 div.sk-text-repr-fallback {display: none;}</style><div id=\"sk-container-id-5\" class=\"sk-top-container\"><div class=\"sk-text-repr-fallback\"><pre>LogisticRegression(C=10, max_iter=1000, random_state=42, solver=&#x27;liblinear&#x27;)</pre><b>In a Jupyter environment, please rerun this cell to show the HTML representation or trust the notebook. <br />On GitHub, the HTML representation is unable to render, please try loading this page with nbviewer.org.</b></div><div class=\"sk-container\" hidden><div class=\"sk-item\"><div class=\"sk-estimator sk-toggleable\"><input class=\"sk-toggleable__control sk-hidden--visually\" id=\"sk-estimator-id-5\" type=\"checkbox\" checked><label for=\"sk-estimator-id-5\" class=\"sk-toggleable__label sk-toggleable__label-arrow\">LogisticRegression</label><div class=\"sk-toggleable__content\"><pre>LogisticRegression(C=10, max_iter=1000, random_state=42, solver=&#x27;liblinear&#x27;)</pre></div></div></div></div></div>"
      ],
      "text/plain": [
       "LogisticRegression(C=10, max_iter=1000, random_state=42, solver='liblinear')"
      ]
     },
     "execution_count": 138,
     "metadata": {},
     "output_type": "execute_result"
    }
   ],
   "source": [
    "model = LogisticRegression(solver='liblinear', C=10, max_iter=1000, random_state=42)\n",
    "model.fit(X_train,y_train)"
   ]
  },
  {
   "cell_type": "code",
   "execution_count": 139,
   "id": "519e58b3",
   "metadata": {},
   "outputs": [
    {
     "data": {
      "text/plain": [
       "-0.29535110068314757"
      ]
     },
     "execution_count": 139,
     "metadata": {},
     "output_type": "execute_result"
    }
   ],
   "source": [
    "model.intercept_[0]"
   ]
  },
  {
   "cell_type": "code",
   "execution_count": 140,
   "id": "2058ccdb",
   "metadata": {
    "collapsed": true
   },
   "outputs": [
    {
     "data": {
      "text/plain": [
       "array([ 5.600e-02, -2.180e-01,  4.600e-02,  3.700e-02,  2.570e-01,\n",
       "        3.720e-01,  2.883e+00,  2.359e+00,  2.700e-01,  0.000e+00,\n",
       "       -6.470e-01,  2.745e+00, -1.356e+00, -5.050e-01, -4.161e+00,\n",
       "       -4.170e-01,  8.400e-01, -1.480e+00, -1.009e+00,  1.065e+00,\n",
       "       -2.267e+00, -2.601e+00, -6.500e-02, -1.760e+00,  3.000e-03,\n",
       "        2.207e+00,  1.900e+00,  2.146e+00,  4.629e+00,  1.199e+00,\n",
       "        1.000e-03, -2.157e+00,  0.000e+00,  6.160e-01, -1.729e+00,\n",
       "       -1.517e+00, -1.101e+00, -3.200e-02, -2.621e+00,  1.765e+00,\n",
       "        1.020e-01,  1.810e-01, -2.190e-01, -2.143e+00, -1.676e+00,\n",
       "        3.613e+00, -5.490e-01, -5.720e-01,  1.136e+00, -7.970e-01,\n",
       "       -1.500e-01, -8.000e-03, -1.000e-03, -1.786e+00, -5.540e-01,\n",
       "       -1.000e-03, -7.000e-03, -1.000e-03, -8.000e-02, -7.030e-01,\n",
       "        1.968e+00, -2.160e-01, -3.670e-01, -2.530e-01, -3.290e-01,\n",
       "       -9.100e-02, -4.000e-03, -2.225e+00,  7.340e-01,  1.575e+00,\n",
       "        1.862e+00, -4.890e-01,  8.900e-02,  0.000e+00,  1.730e-01,\n",
       "       -6.000e-03,  8.220e-01,  1.509e+00, -1.400e-02, -2.206e+00,\n",
       "       -2.000e-02, -1.480e-01, -2.350e-01, -1.100e-01,  1.000e-03,\n",
       "        0.000e+00, -3.100e-02,  1.620e-01,  6.330e-01, -4.000e-03,\n",
       "        2.000e-03,  0.000e+00, -2.000e-03,  0.000e+00,  1.287e+00,\n",
       "        3.130e-01, -2.200e-02, -3.400e-02, -1.813e+00, -5.000e-03,\n",
       "       -8.910e-01, -1.300e-02, -4.930e-01, -4.440e-01,  2.403e+00,\n",
       "       -1.241e+00, -8.000e-02, -2.300e-02, -2.100e-02,  4.710e-01,\n",
       "       -7.590e-01, -8.000e-03, -4.000e-03, -1.600e-02, -4.100e-02,\n",
       "       -1.690e-01, -9.190e-01, -2.788e+00,  1.144e+00,  1.491e+00,\n",
       "        2.154e+00,  6.400e-02,  0.000e+00,  0.000e+00,  7.000e-03,\n",
       "       -1.657e+00,  1.003e+00,  6.000e-03,  9.550e-01, -7.000e-03,\n",
       "       -9.160e-01, -5.600e-02, -2.660e-01, -4.000e-03,  1.040e-01,\n",
       "        6.000e-02, -2.800e-02, -2.000e-03, -1.200e-02,  2.800e-02,\n",
       "       -4.440e-01,  2.752e+00, -1.017e+00, -0.000e+00, -5.000e-03,\n",
       "       -4.000e-03,  7.090e-01,  1.001e+00, -3.120e-01, -9.200e-02,\n",
       "        0.000e+00, -1.000e-03,  5.360e-01, -1.000e-03, -2.440e-01,\n",
       "       -1.000e-02, -0.000e+00, -1.000e-03, -1.000e-03, -5.890e-01,\n",
       "       -4.800e-02, -3.400e-02, -1.430e-01, -9.500e-01, -3.000e-03,\n",
       "       -8.120e-01, -1.000e-03, -1.400e-02, -2.114e+00,  4.970e-01,\n",
       "       -5.330e-01, -2.000e-03, -1.000e-03, -1.000e-03, -5.000e-02,\n",
       "       -8.900e-02, -9.000e-03, -1.200e-02, -4.200e-02, -5.680e-01,\n",
       "       -1.736e+00, -8.860e-01, -1.780e-01, -6.880e-01,  0.000e+00,\n",
       "        1.968e+00,  7.110e-01, -1.120e-01, -1.000e-03, -1.340e-01,\n",
       "        9.530e-01,  1.450e+00,  2.580e-01,  9.900e-01,  0.000e+00,\n",
       "        0.000e+00,  0.000e+00, -5.000e-02, -1.320e-01, -4.760e-01,\n",
       "       -7.350e-01, -6.000e-03, -3.810e-01, -2.000e-03,  2.000e-03,\n",
       "        0.000e+00, -9.560e-01, -8.200e-02, -3.150e-01, -1.500e-01,\n",
       "       -1.641e+00, -1.420e-01, -6.800e-02, -1.400e-01, -3.230e-01,\n",
       "       -5.000e-03,  1.329e+00, -1.000e-03, -1.000e-03,  3.850e-01,\n",
       "       -2.963e+00, -7.000e-03, -9.000e-03, -1.300e-02, -1.000e-03,\n",
       "       -1.630e-01, -0.000e+00, -1.000e-03, -2.000e-03, -8.000e-03,\n",
       "       -2.219e+00, -3.000e-03, -1.710e-01, -1.024e+00,  1.000e-03,\n",
       "        0.000e+00,  2.000e-03,  0.000e+00,  0.000e+00, -1.000e-03,\n",
       "       -9.000e-03, -2.900e-02, -1.000e-03, -1.000e-03,  4.270e-01,\n",
       "        1.400e-01, -1.300e-02,  4.640e-01, -1.820e-01, -1.100e-02,\n",
       "       -2.000e-02, -5.000e-03, -3.000e-03, -1.300e-02, -2.200e-02,\n",
       "       -1.400e-02,  9.900e-02,  0.000e+00,  2.000e-02,  1.875e+00,\n",
       "       -5.600e-02, -5.000e-03,  4.150e-01, -1.610e-01, -3.100e-02,\n",
       "       -2.930e-01, -2.250e-01,  1.043e+00, -6.600e-01, -0.000e+00,\n",
       "       -9.000e-03, -3.800e-02,  4.406e+00, -1.010e-01, -7.100e-02,\n",
       "       -2.310e+00, -6.000e-03, -5.310e-01, -1.642e+00, -1.595e+00,\n",
       "       -1.538e+00, -6.700e-02, -4.500e-01,  2.430e-01, -8.000e-03,\n",
       "       -1.200e-02, -1.700e-02, -3.000e-03, -1.000e-03, -7.210e-01,\n",
       "       -6.000e-03, -3.500e-02,  2.260e+00,  1.069e+00, -1.220e-01,\n",
       "       -2.390e-01, -2.900e-02,  2.066e+00, -1.755e+00, -1.142e+00,\n",
       "       -3.820e-01, -4.870e-01, -8.600e-02,  5.280e-01,  1.200e-02,\n",
       "        1.700e-02,  3.100e-02,  1.070e-01, -3.300e-02, -1.000e-03,\n",
       "        1.300e-01, -6.000e-03, -3.600e-02,  1.035e+00,  3.000e-03,\n",
       "       -0.000e+00,  1.200e+00,  1.447e+00,  1.257e+00, -2.400e-02,\n",
       "       -6.130e-01, -1.000e-03, -7.100e-01,  2.840e-01, -9.000e-03,\n",
       "       -3.640e-01, -1.700e-02,  0.000e+00,  1.200e-02,  0.000e+00,\n",
       "       -3.900e-01, -1.380e-01,  1.209e+00,  9.080e-01,  7.500e-02,\n",
       "       -0.000e+00, -1.000e-03, -8.040e-01, -4.000e-03, -6.000e-02,\n",
       "       -1.358e+00, -1.378e+00,  2.000e-03, -2.200e-02, -4.830e-01,\n",
       "       -1.000e-02, -9.600e-02, -2.400e-02, -0.000e+00, -2.340e-01,\n",
       "       -1.000e-02, -8.300e-02, -1.042e+00, -2.500e-01, -7.500e-02,\n",
       "        3.320e-01, -1.339e+00, -2.088e+00, -3.000e-03, -1.926e+00,\n",
       "       -3.274e+00,  7.580e-01, -1.000e-03, -2.170e-01, -1.065e+00,\n",
       "        2.300e-02, -6.710e-01,  2.320e+00,  2.660e-01, -7.000e-02,\n",
       "       -3.084e+00,  8.250e-01,  9.350e-01,  1.000e-03, -1.670e-01,\n",
       "        4.340e-01, -1.200e-02,  3.000e-03,  5.820e-01, -1.306e+00,\n",
       "        5.450e-01,  0.000e+00,  0.000e+00, -5.000e-02, -1.600e-02,\n",
       "       -2.640e-01, -8.920e-01, -3.900e-02,  1.970e-01,  8.000e-03,\n",
       "        3.000e-03, -1.800e-02, -2.530e-01, -4.100e-02, -1.200e-02,\n",
       "        1.065e+00, -3.000e-03, -1.200e-02, -4.540e-01, -2.980e-01,\n",
       "        1.925e+00, -3.040e-01, -2.570e-01, -8.000e-03,  2.923e+00,\n",
       "       -1.069e+00,  1.360e-01,  1.924e+00, -1.257e+00, -3.000e-03,\n",
       "       -2.200e-02, -3.300e-01, -5.000e-03, -1.500e-02, -1.600e-02,\n",
       "       -1.330e-01, -9.200e-02, -2.810e-01, -2.940e-01, -1.720e-01,\n",
       "       -4.300e-02, -4.310e-01, -3.700e-02, -0.000e+00,  2.082e+00,\n",
       "       -1.290e-01, -1.940e-01, -1.365e+00,  5.510e-01,  3.630e-01,\n",
       "        5.370e-01,  9.240e-01,  3.280e-01,  4.000e-03, -2.900e-01,\n",
       "       -7.000e-03,  1.244e+00, -1.569e+00, -9.300e-02, -3.990e-01,\n",
       "        0.000e+00, -6.000e-03, -1.600e-02, -3.600e-02, -1.710e-01,\n",
       "       -3.700e-02,  1.850e-01, -2.780e-01, -5.000e-03, -6.000e-03,\n",
       "        3.960e-01,  2.007e+00,  1.600e-02, -7.000e-03,  1.480e+00,\n",
       "        1.000e-03,  1.742e+00,  0.000e+00,  2.243e+00, -1.482e+00,\n",
       "        1.190e-01,  9.500e-02,  7.490e-01,  2.993e+00,  0.000e+00,\n",
       "       -1.100e-02, -1.000e-02, -4.000e-03, -4.800e-02, -0.000e+00,\n",
       "        9.900e-02, -2.024e+00, -4.500e-02, -9.000e-03, -3.100e-02,\n",
       "       -6.000e-03, -5.140e-01, -2.005e+00, -4.000e-03, -1.818e+00,\n",
       "       -2.300e-02, -1.270e-01, -0.000e+00, -1.000e-03,  3.613e+00,\n",
       "       -1.000e-03, -1.900e-02, -6.000e-03, -4.590e-01, -1.900e-02,\n",
       "       -1.663e+00,  2.024e+00,  0.000e+00, -1.302e+00,  0.000e+00,\n",
       "       -1.000e-03, -1.000e-03, -1.517e+00, -9.310e-01,  2.020e-01,\n",
       "       -1.000e-03, -4.400e-02, -1.400e-02, -7.000e-02, -4.700e-02,\n",
       "       -1.410e-01, -3.100e-02, -9.600e-02, -4.100e-02,  2.520e-01,\n",
       "        0.000e+00, -8.850e-01, -3.100e-02,  1.110e-01,  8.000e-02,\n",
       "        6.100e-02,  3.200e-02,  8.000e-03, -2.000e-03,  3.440e-01,\n",
       "       -6.000e-03, -4.000e-03, -4.800e-02, -3.000e-03, -2.400e-02,\n",
       "       -1.000e-03, -2.000e-03,  2.232e+00, -2.023e+00, -1.802e+00,\n",
       "        7.760e-01,  1.831e+00,  1.931e+00,  1.640e-01,  3.328e+00,\n",
       "        1.544e+00,  8.140e-01, -4.990e-01, -2.300e+00,  1.444e+00,\n",
       "        8.360e-01,  8.170e-01,  5.200e-02,  3.900e-02, -3.860e-01,\n",
       "        2.200e-02, -3.000e-03, -2.000e-03, -1.040e-01,  4.100e-01,\n",
       "        2.000e-03, -1.953e+00,  2.542e+00,  9.050e-01,  3.000e-03,\n",
       "       -3.200e-02, -6.950e-01, -8.100e-01,  2.310e-01,  4.830e-01,\n",
       "        8.700e-02, -2.600e-02, -2.000e-02, -2.700e-02, -3.000e-03,\n",
       "       -0.000e+00, -1.000e-03,  2.133e+00, -3.000e-03, -4.000e-03,\n",
       "       -4.000e-03,  2.140e-01,  1.584e+00,  7.300e-01, -4.000e-03,\n",
       "       -7.000e-03, -1.093e+00, -1.280e-01, -2.000e-03, -7.480e-01,\n",
       "       -7.000e-03, -1.100e-01, -1.840e-01, -6.900e-02, -2.000e-02,\n",
       "       -1.200e-02,  8.700e-01, -9.000e-03, -1.000e-02, -2.000e-03,\n",
       "       -3.000e-03,  2.300e-02, -7.500e-02,  5.680e-01,  3.580e-01,\n",
       "       -7.240e-01,  4.940e-01,  1.000e-03, -6.570e-01,  1.000e-03,\n",
       "       -1.960e-01,  0.000e+00,  1.537e+00,  1.498e+00,  7.140e-01,\n",
       "        0.000e+00,  0.000e+00, -1.200e-01,  3.800e-02,  1.000e-03,\n",
       "        3.120e-01,  2.570e-01,  2.182e+00,  7.450e-01,  1.000e-03,\n",
       "       -2.900e-02, -2.200e-02, -2.400e-02, -0.000e+00, -8.740e-01,\n",
       "       -6.070e-01, -5.050e-01, -4.260e-01, -0.000e+00, -2.330e-01,\n",
       "       -5.710e-01, -2.500e-02, -0.000e+00,  7.280e-01,  8.290e-01,\n",
       "       -1.000e-03,  1.000e-02,  3.000e-03, -2.000e-03,  6.560e-01,\n",
       "        1.647e+00, -1.828e+00,  1.533e+00, -4.900e-02,  9.310e-01,\n",
       "       -8.020e-01,  9.710e-01, -2.550e-01, -1.100e-02, -2.150e-01,\n",
       "       -2.630e-01, -1.080e-01, -1.000e-02, -1.400e-02,  8.000e-03,\n",
       "       -2.600e-02, -2.350e-01, -2.000e-03, -2.218e+00, -1.300e-02,\n",
       "       -0.000e+00, -6.570e-01, -2.000e-03,  2.220e-01, -1.000e-03,\n",
       "       -7.700e-02, -1.200e-02,  1.590e+00, -1.000e-03, -2.000e-03,\n",
       "        1.000e-03,  0.000e+00, -8.460e-01, -0.000e+00, -4.000e-03,\n",
       "        4.800e-02, -9.920e-01, -1.052e+00, -3.090e-01,  1.057e+00,\n",
       "        1.800e-01,  9.100e-01, -8.560e-01,  1.413e+00,  1.041e+00,\n",
       "       -1.144e+00, -3.470e-01, -0.000e+00, -1.000e-03, -2.340e-01,\n",
       "       -1.800e-02, -2.000e-03, -5.340e-01,  5.920e-01, -2.340e-01,\n",
       "        3.521e+00,  2.204e+00, -1.029e+00, -6.000e-03, -3.799e+00,\n",
       "       -7.460e-01, -9.000e-03, -6.200e-02,  1.939e+00,  1.368e+00,\n",
       "       -2.500e-02, -1.620e-01, -3.590e-01, -3.700e-02, -4.000e-03,\n",
       "       -1.600e-02, -1.429e+00, -1.480e-01,  2.100e-02, -1.010e+00,\n",
       "        2.234e+00, -4.850e-01, -2.668e+00,  2.260e-01, -6.700e-02,\n",
       "       -0.000e+00, -1.300e-02, -0.000e+00, -2.100e-02, -5.400e-02,\n",
       "       -7.800e-02, -1.970e-01, -7.800e-02, -7.000e-03, -1.100e-02,\n",
       "       -6.000e-03,  0.000e+00, -2.000e-03, -1.700e-02,  2.000e-03,\n",
       "        6.000e-03, -5.000e-03, -1.400e-02, -5.870e-01, -3.100e-02,\n",
       "        0.000e+00, -3.336e+00,  2.110e-01,  2.100e-01,  5.740e-01,\n",
       "        4.210e-01,  0.000e+00, -7.880e-01,  3.040e-01,  1.416e+00,\n",
       "       -4.000e-03, -1.000e-01, -8.360e-01, -2.742e+00,  7.960e-01,\n",
       "       -3.300e-02, -7.250e-01, -1.000e-03, -3.000e-03,  5.300e-01,\n",
       "        1.875e+00,  8.670e-01, -1.670e-01,  1.220e+00,  1.824e+00,\n",
       "       -1.464e+00,  4.000e-03, -5.000e-03, -2.600e-02, -4.500e-02,\n",
       "       -5.000e-03, -1.980e-01,  1.930e-01,  9.290e-01, -1.214e+00,\n",
       "       -5.000e-03, -2.005e+00, -5.200e-02, -1.182e+00,  1.147e+00,\n",
       "       -1.300e-01, -5.890e-01,  1.360e+00,  2.368e+00, -1.130e-01,\n",
       "        8.420e-01, -8.030e-01,  1.370e-01,  6.350e-01, -2.589e+00,\n",
       "        2.130e-01,  4.660e-01, -7.000e-03])"
      ]
     },
     "execution_count": 140,
     "metadata": {},
     "output_type": "execute_result"
    }
   ],
   "source": [
    "model.coef_[0].round(3)"
   ]
  },
  {
   "cell_type": "code",
   "execution_count": 141,
   "id": "1f268377",
   "metadata": {},
   "outputs": [],
   "source": [
    "y_pred = model.predict(X_val)"
   ]
  },
  {
   "cell_type": "code",
   "execution_count": 142,
   "id": "52872aaf",
   "metadata": {},
   "outputs": [],
   "source": [
    "accuracy = np.round(accuracy_score(y_val, y_pred),2)"
   ]
  },
  {
   "cell_type": "code",
   "execution_count": 143,
   "id": "82e5ce37",
   "metadata": {},
   "outputs": [
    {
     "data": {
      "text/plain": [
       "0.94"
      ]
     },
     "execution_count": 143,
     "metadata": {},
     "output_type": "execute_result"
    }
   ],
   "source": [
    "accuracy"
   ]
  },
  {
   "cell_type": "code",
   "execution_count": 155,
   "id": "245c5d14",
   "metadata": {},
   "outputs": [
    {
     "data": {
      "text/plain": [
       "['make',\n",
       " 'model',\n",
       " 'transmission_type',\n",
       " 'vehicle_style',\n",
       " 'year',\n",
       " 'engine_hp',\n",
       " 'engine_cylinders',\n",
       " 'highway_mpg',\n",
       " 'city_mpg']"
      ]
     },
     "execution_count": 155,
     "metadata": {},
     "output_type": "execute_result"
    }
   ],
   "source": [
    "features  = categorical+numerical\n",
    "features"
   ]
  },
  {
   "cell_type": "code",
   "execution_count": 156,
   "id": "0831485c",
   "metadata": {
    "collapsed": true
   },
   "outputs": [
    {
     "name": "stdout",
     "output_type": "stream",
     "text": [
      "the difference between  original accuracy and make is 0.02855623950755448\n",
      "\n",
      "the difference between  original accuracy and transmission_type is 0.024778959149412416\n",
      "\n",
      "the difference between  original accuracy and year is 0.023799664241745844\n",
      "\n",
      "the difference between  original accuracy and engine_cylinders is 0.024918858421936196\n",
      "\n",
      "the difference between  original accuracy and city_mpg is 0.02212087297146048\n",
      "\n"
     ]
    }
   ],
   "source": [
    "for c in features:\n",
    "    features.remove(c)\n",
    "    \n",
    "    train_dict = df_train[features].to_dict(orient='records')\n",
    "    dv = DictVectorizer(sparse=False)\n",
    "    X_train = dv.fit_transform(train_dict)\n",
    "    \n",
    "    val_dict = df_val[features].to_dict(orient='records')\n",
    "    X_val = dv.transform(val_dict)\n",
    "    \n",
    "    model = LogisticRegression(solver='liblinear', C=1.0, max_iter=1000, random_state=42)\n",
    "    model.fit(X_train,y_train)\n",
    "    \n",
    "    y_pred = model.predict(X_val)\n",
    "    score = accuracy_score(y_val,y_pred)\n",
    "    print(f\"the difference between  original accuracy and {c} is {accuracy-score}\")\n",
    "    print()"
   ]
  },
  {
   "cell_type": "markdown",
   "id": "dc8fd70c",
   "metadata": {},
   "source": [
    "# Question 6"
   ]
  },
  {
   "cell_type": "code",
   "execution_count": 170,
   "id": "da5c4cdf",
   "metadata": {},
   "outputs": [],
   "source": [
    "from sklearn.linear_model import Ridge\n",
    "from sklearn.metrics import mean_squared_error"
   ]
  },
  {
   "cell_type": "code",
   "execution_count": 171,
   "id": "9525b3f8",
   "metadata": {},
   "outputs": [],
   "source": [
    "ocdf['price'] = np.log1p(ocdf['price'])"
   ]
  },
  {
   "cell_type": "code",
   "execution_count": 172,
   "id": "8bad7eca",
   "metadata": {},
   "outputs": [],
   "source": [
    "df_train_full, df_test = train_test_split(ocdf, test_size=0.2, random_state=42)\n",
    "df_train, df_val = train_test_split(df_train_full, test_size=0.25, random_state=42)"
   ]
  },
  {
   "cell_type": "code",
   "execution_count": 173,
   "id": "9c90afff",
   "metadata": {},
   "outputs": [],
   "source": [
    "df_train = df_train.reset_index(drop=True)\n",
    "df_val = df_val.reset_index(drop=True)\n",
    "df_test = df_test.reset_index(drop=True)"
   ]
  },
  {
   "cell_type": "code",
   "execution_count": 174,
   "id": "e28e4160",
   "metadata": {},
   "outputs": [],
   "source": [
    "y_train = df_train.price.values\n",
    "y_val = df_val.price.values\n",
    "y_test = df_test.price.values"
   ]
  },
  {
   "cell_type": "code",
   "execution_count": 175,
   "id": "731d3b17",
   "metadata": {},
   "outputs": [],
   "source": [
    "del df_train['price']\n",
    "del df_val['price']\n",
    "del df_test['price']"
   ]
  },
  {
   "cell_type": "code",
   "execution_count": 176,
   "id": "7c83e29c",
   "metadata": {},
   "outputs": [],
   "source": [
    "dv = DictVectorizer(sparse=False)\n",
    "train_dict = df_train[categorical+numerical].to_dict(orient='records')\n",
    "X_train = dv.fit_transform(train_dict)\n",
    "\n",
    "val_dict=df_val[categorical+numerical].to_dict(orient='records')\n",
    "X_val = dv.transform(val_dict)"
   ]
  },
  {
   "cell_type": "code",
   "execution_count": 179,
   "id": "2bc85e45",
   "metadata": {},
   "outputs": [
    {
     "name": "stderr",
     "output_type": "stream",
     "text": [
      "C:\\Users\\SEISANG-G06\\anaconda3\\envs\\python-env\\lib\\site-packages\\sklearn\\linear_model\\_sag.py:350: ConvergenceWarning: The max_iter was reached which means the coef_ did not converge\n",
      "  warnings.warn(\n"
     ]
    },
    {
     "name": "stdout",
     "output_type": "stream",
     "text": [
      "0 , 0.04725330723598851\n"
     ]
    },
    {
     "name": "stderr",
     "output_type": "stream",
     "text": [
      "C:\\Users\\SEISANG-G06\\anaconda3\\envs\\python-env\\lib\\site-packages\\sklearn\\linear_model\\_sag.py:350: ConvergenceWarning: The max_iter was reached which means the coef_ did not converge\n",
      "  warnings.warn(\n"
     ]
    },
    {
     "name": "stdout",
     "output_type": "stream",
     "text": [
      "0.01 , 0.047253328191066556\n"
     ]
    },
    {
     "name": "stderr",
     "output_type": "stream",
     "text": [
      "C:\\Users\\SEISANG-G06\\anaconda3\\envs\\python-env\\lib\\site-packages\\sklearn\\linear_model\\_sag.py:350: ConvergenceWarning: The max_iter was reached which means the coef_ did not converge\n",
      "  warnings.warn(\n"
     ]
    },
    {
     "name": "stdout",
     "output_type": "stream",
     "text": [
      "0.1 , 0.04725351678000481\n"
     ]
    },
    {
     "name": "stderr",
     "output_type": "stream",
     "text": [
      "C:\\Users\\SEISANG-G06\\anaconda3\\envs\\python-env\\lib\\site-packages\\sklearn\\linear_model\\_sag.py:350: ConvergenceWarning: The max_iter was reached which means the coef_ did not converge\n",
      "  warnings.warn(\n"
     ]
    },
    {
     "name": "stdout",
     "output_type": "stream",
     "text": [
      "1 , 0.04725540208875078\n",
      "10 , 0.04727419735872226\n"
     ]
    },
    {
     "name": "stderr",
     "output_type": "stream",
     "text": [
      "C:\\Users\\SEISANG-G06\\anaconda3\\envs\\python-env\\lib\\site-packages\\sklearn\\linear_model\\_sag.py:350: ConvergenceWarning: The max_iter was reached which means the coef_ did not converge\n",
      "  warnings.warn(\n"
     ]
    }
   ],
   "source": [
    "for a in [0, 0.01, 0.1, 1, 10]:\n",
    "    model = Ridge(alpha=a,solver=\"sag\",random_state=42)\n",
    "    model.fit(X_train,y_train)\n",
    "\n",
    "    y_pred = model.predict(X_val)\n",
    "    score=np.sqrt(mean_squared_error(y_val,y_pred))\n",
    "    \n",
    "    print(f\"{a} , {score}\")"
   ]
  },
  {
   "cell_type": "code",
   "execution_count": null,
   "id": "0bd945fa",
   "metadata": {},
   "outputs": [],
   "source": []
  }
 ],
 "metadata": {
  "kernelspec": {
   "display_name": "Python 3 (ipykernel)",
   "language": "python",
   "name": "python3"
  },
  "language_info": {
   "codemirror_mode": {
    "name": "ipython",
    "version": 3
   },
   "file_extension": ".py",
   "mimetype": "text/x-python",
   "name": "python",
   "nbconvert_exporter": "python",
   "pygments_lexer": "ipython3",
   "version": "3.10.13"
  }
 },
 "nbformat": 4,
 "nbformat_minor": 5
}
